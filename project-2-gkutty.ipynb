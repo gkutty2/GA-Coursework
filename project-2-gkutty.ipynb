{
 "cells": [
  {
   "cell_type": "markdown",
   "metadata": {},
   "source": [
    "<img src=\"http://imgur.com/1ZcRyrc.png\" style=\"float: left; margin: 20px; height: 55px\">\n",
    "\n",
    "# Project 2: Analyzing Chipotle Data\n",
    "\n",
    "_Author: Joseph Nelson (DC)_\n",
    "\n",
    "---"
   ]
  },
  {
   "cell_type": "markdown",
   "metadata": {},
   "source": [
    "For Project 2, you will complete a series of exercises exploring [order data from Chipotle](https://github.com/TheUpshot/chipotle), compliments of _The New York Times'_ \"The Upshot.\"\n",
    "\n",
    "For these exercises, you will conduct basic exploratory data analysis (Pandas not required) to understand the essentials of Chipotle's order data: how many orders are being made, the average price per order, how many different ingredients are used, etc. These allow you to practice business analysis skills while also becoming comfortable with Python."
   ]
  },
  {
   "cell_type": "markdown",
   "metadata": {},
   "source": [
    "---\n",
    "\n",
    "## Basic Level"
   ]
  },
  {
   "cell_type": "markdown",
   "metadata": {},
   "source": [
    "### Part 1: Read in the file with `csv.reader()` and store it in an object called `file_nested_list`.\n",
    "\n",
    "Hint: This is a TSV (tab-separated value) file, and `csv.reader()` needs to be told [how to handle it](https://docs.python.org/2/library/csv.html)."
   ]
  },
  {
   "cell_type": "code",
   "execution_count": 1,
   "metadata": {
    "collapsed": true
   },
   "outputs": [],
   "source": [
    "import csv\n",
    "from collections import namedtuple   # Convenient to store the data rows\n",
    "\n",
    "DATA_FILE = './data/chipotle.tsv'"
   ]
  },
  {
   "cell_type": "code",
   "execution_count": 2,
   "metadata": {
    "collapsed": true
   },
   "outputs": [],
   "source": [
    "with open(DATA_FILE) as csvfile:\n",
    "    \n",
    "    # Use tab delimiter since the file is tab delimited\n",
    "    file_nested_list = csv.reader(csvfile, delimiter='\\t')\n",
    "    \n",
    "    # Capture the first row in variable = headerby using the 'next' function\n",
    "    header = next(file_nested_list)\n",
    "    \n",
    "    # Capture the data rows in a 'data' array\n",
    "    data=[]\n",
    "    for row in file_nested_list:\n",
    "        data.append(row)"
   ]
  },
  {
   "cell_type": "markdown",
   "metadata": {},
   "source": [
    "### Part 2: Separate `file_nested_list` into the `header` and the `data`.\n"
   ]
  },
  {
   "cell_type": "code",
   "execution_count": 3,
   "metadata": {
    "collapsed": true
   },
   "outputs": [],
   "source": [
    "# This was done in the previous section"
   ]
  },
  {
   "cell_type": "markdown",
   "metadata": {},
   "source": [
    "---\n",
    "\n",
    "## Intermediate Level"
   ]
  },
  {
   "cell_type": "markdown",
   "metadata": {},
   "source": [
    "### Part 3: Calculate the average price of an order.\n",
    "\n",
    "Hint: Examine the data to see if the `quantity` column is relevant to this calculation.\n",
    "\n",
    "Hint: Think carefully about the simplest way to do this!"
   ]
  },
  {
   "cell_type": "code",
   "execution_count": 4,
   "metadata": {
    "collapsed": true
   },
   "outputs": [],
   "source": [
    "# 'order_id_counter' = Records order_id. Resets to zero for every new order\n",
    "order_id_counter = data[0][0]\n",
    "\n",
    "# 'order_price_counter' = Records cumulative price of order. Resets to zero for every new order\n",
    "order_price_counter = float(data[0][1]) * float(data[0][4][1:])\n",
    "\n",
    "# 'orders_counter' = Tracks the number of unique orders.  Increments by 1 for every new order\n",
    "orders_counter = 1\n",
    "\n",
    "# 'order_prices' = list that captures total price of each order\n",
    "order_prices = []\n",
    "\n",
    "for i in range(1, len(data)):\n",
    "    if data[i][0] == order_id_counter:\n",
    "        \n",
    "        # Convert the currency to a float using 'float(data[i][4][1:])', which strips the '$'\n",
    "        order_price_counter += float(data[i][1]) * float(data[i][4][1:])\n",
    "        \n",
    "        # Append the order price of the very last order, in the event that the very last item is not a new order\n",
    "        if i == len(data) - 1:\n",
    "            order_prices.append(order_price_counter)\n",
    "    else:\n",
    "        order_prices.append(order_price_counter)\n",
    "        order_price_counter = float(data[i][1]) * float(data[i][4][1:])\n",
    "        order_id_counter = data[i][0]\n",
    "        orders_counter += 1"
   ]
  },
  {
   "cell_type": "code",
   "execution_count": 5,
   "metadata": {},
   "outputs": [
    {
     "name": "stdout",
     "output_type": "stream",
     "text": [
      "$21.39\n"
     ]
    }
   ],
   "source": [
    "# Average price is the sum of the items in the 'order_prices' list divided by the number of unique items, captured in items_counter\n",
    "avg_order_price = sum(order_prices)/orders_counter\n",
    "\n",
    "# Convert float to price format\n",
    "print('${:,.2f}'.format(avg_order_price))"
   ]
  },
  {
   "cell_type": "markdown",
   "metadata": {},
   "source": [
    "### Part 4: Create a list (or set) named `unique_sodas` containing all of unique sodas and soft drinks that Chipotle sells.\n",
    "\n",
    "Note: Just look for `'Canned Soda'` and `'Canned Soft Drink'`, and ignore other drinks like `'Izze'`."
   ]
  },
  {
   "cell_type": "code",
   "execution_count": 6,
   "metadata": {
    "collapsed": true
   },
   "outputs": [],
   "source": [
    "# Capture non-unique soda names in list 'soda[]'\n",
    "sodas = []\n",
    "\n",
    "# Loop through rows.  If 'item_name' = 'Canned Soda' or 'Canned Soft Drink', append 'soda[]' with 'choice_description' value \n",
    "for i in range(0,len(data)):\n",
    "    if data[i][2] == 'Canned Soda' or data[i][2] == 'Canned Soft Drink':\n",
    "        sodas.append(data[i][3])"
   ]
  },
  {
   "cell_type": "code",
   "execution_count": 7,
   "metadata": {},
   "outputs": [
    {
     "name": "stdout",
     "output_type": "stream",
     "text": [
      "['[Sprite]', '[Coke]', '[Dr. Pepper]', '[Diet Dr. Pepper]', '[Lemonade]', '[Mountain Dew]', '[Diet Coke]', '[Coca Cola]', '[Nestea]']\n"
     ]
    }
   ],
   "source": [
    "# Convert sodas to set to get unique values\n",
    "unique_sodas = list(set(sodas))\n",
    "print(unique_sodas)"
   ]
  },
  {
   "cell_type": "markdown",
   "metadata": {},
   "source": [
    "---\n",
    "\n",
    "## Advanced Level\n"
   ]
  },
  {
   "cell_type": "markdown",
   "metadata": {},
   "source": [
    "### Part 5: Calculate the average number of toppings per burrito.\n",
    "\n",
    "Note: Let's ignore the `quantity` column to simplify this task.\n",
    "\n",
    "Hint: Think carefully about the easiest way to count the number of toppings!\n"
   ]
  },
  {
   "cell_type": "code",
   "execution_count": 8,
   "metadata": {
    "collapsed": true
   },
   "outputs": [],
   "source": [
    "# Assume that each salsa counts as a topping\n",
    "# Capture number of toppings of each Burrito item in list 'toppings[]'\n",
    "toppings = []\n",
    "count_of_burritos = 0\n",
    "\n",
    "for i in range(0,len(data)):\n",
    "    \n",
    "    # Look for the word 'Burrito' in 'item_name'\n",
    "    if 'Burrito' in data[i][2]:\n",
    "        \n",
    "        # The number of toppings is equal to the number of commas in 'choice_description' + 1\n",
    "        commas = 1 + data[i][3].count(',')\n",
    "        \n",
    "        toppings.append(commas)\n",
    "        count_of_burritos += 1"
   ]
  },
  {
   "cell_type": "code",
   "execution_count": 9,
   "metadata": {},
   "outputs": [
    {
     "name": "stdout",
     "output_type": "stream",
     "text": [
      "5.395051194539249\n"
     ]
    }
   ],
   "source": [
    "print(sum(toppings)/count_of_burritos)"
   ]
  },
  {
   "cell_type": "markdown",
   "metadata": {},
   "source": [
    "### Part 6: Create a dictionary. Let the keys represent chip orders and the values represent the total number of orders.\n",
    "\n",
    "Expected output: `{'Chips and Roasted Chili-Corn Salsa': 18, ... }`\n",
    "\n",
    "Note: Please take the `quantity` column into account!\n",
    "\n",
    "Optional: Learn how to use `.defaultdict()` to simplify your code."
   ]
  },
  {
   "cell_type": "code",
   "execution_count": 10,
   "metadata": {},
   "outputs": [],
   "source": [
    "# The list 'chips[]' stores all item_names with the word 'Chips' in 'item_name'\n",
    "chips = []\n",
    "for i in range(0,len(data)):\n",
    "    if 'Chips' in data[i][2]:\n",
    "        chips.append(data[i][2])"
   ]
  },
  {
   "cell_type": "code",
   "execution_count": 11,
   "metadata": {
    "collapsed": true
   },
   "outputs": [],
   "source": [
    "# Define 'chips_count' as a defaultdict with an int input\n",
    "from collections import defaultdict\n",
    "chips_count = defaultdict(int)\n",
    "\n",
    "# Loop through the list 'chips' and increment the 'chips_count' defaultdict\n",
    "for x in chips:\n",
    "    chips_count[x] += 1"
   ]
  },
  {
   "cell_type": "code",
   "execution_count": 12,
   "metadata": {},
   "outputs": [
    {
     "name": "stdout",
     "output_type": "stream",
     "text": [
      "{'Chips and Fresh Tomato Salsa': 110, 'Chips and Tomatillo-Green Chili Salsa': 31, 'Side of Chips': 101, 'Chips and Guacamole': 479, 'Chips and Tomatillo Green Chili Salsa': 43, 'Chips': 211, 'Chips and Tomatillo Red Chili Salsa': 48, 'Chips and Roasted Chili-Corn Salsa': 18, 'Chips and Roasted Chili Corn Salsa': 22, 'Chips and Tomatillo-Red Chili Salsa': 20, 'Chips and Mild Fresh Tomato Salsa': 1}\n"
     ]
    }
   ],
   "source": [
    "# Convert chips_count to dict and print\n",
    "print(dict(chips_count))"
   ]
  },
  {
   "cell_type": "markdown",
   "metadata": {},
   "source": [
    "---\n",
    "\n",
    "## Bonus: Craft a problem statement about this data that interests you, and then answer it!\n"
   ]
  },
  {
   "cell_type": "markdown",
   "metadata": {
    "collapsed": true
   },
   "source": [
    "# For each major meat type (Chicken, Steak, Carnitas, Barbacoa), find the most common salsa topping"
   ]
  },
  {
   "cell_type": "code",
   "execution_count": 13,
   "metadata": {},
   "outputs": [],
   "source": [
    "# Strategy is to convert 'item_name' into a list of readable strings\n",
    "# Then loop through the list and, if the word 'Salsa' appears, append to the corresponding meat counter \n",
    "\n",
    "chicken, steak, carnitas, barbacoa = ([] for x in range(4))\n",
    "for i in range(0,len(data)):\n",
    "    \n",
    "    # Store 'item_name' in the variable 'item'. Convert to a list of strings.\n",
    "    item = data[i][3].split(',')\n",
    "    \n",
    "    # Remove brackets and spaces to convert elements to a readable string\n",
    "    item = [x.replace(\"[\",\"\").replace(\"]\",\"\").strip() for x in item]\n",
    "    \n",
    "    # Loop through each item in 'item_name'. If it has 'Salsa' in the name, append the corresponding variable\n",
    "    for y in item:\n",
    "        if 'Salsa' in y:\n",
    "            if 'Chicken' in data[i][2]:\n",
    "                chicken.append(y)\n",
    "            elif 'Steak' in data[i][2]:\n",
    "                steak.append(y)\n",
    "            elif 'Carnitas' in data[i][2]:\n",
    "                carnitas.append(y)\n",
    "            elif 'Barbacoa' in data[i][2]:\n",
    "                barbacoa.append(y)"
   ]
  },
  {
   "cell_type": "code",
   "execution_count": 37,
   "metadata": {},
   "outputs": [
    {
     "name": "stdout",
     "output_type": "stream",
     "text": [
      "The most common salsa in Chicken is Fresh Tomato Salsa. It appears 654 times.\n",
      "The most common salsa in Carnitas is Fresh Tomato Salsa. It appears 60 times.\n",
      "The most common salsa in Steak is Fresh Tomato Salsa. It appears 215 times.\n",
      "The most common salsa in Barbacoa is Tomatillo Red Chili Salsa. It appears 55 times.\n"
     ]
    }
   ],
   "source": [
    "# Use Counter from the 'collections' library to get the most commonly occurring item in a list\n",
    "from collections import Counter\n",
    "most_common = [Counter(chicken).most_common(1), Counter(carnitas).most_common(1), Counter(steak).most_common(1), Counter(barbacoa).most_common(1)]\n",
    "meats = ['Chicken', 'Carnitas', 'Steak', 'Barbacoa']\n",
    "\n",
    "# Print results\n",
    "for i in range(4 ):\n",
    "    print('The most common salsa in ' + meats[i] + ' is ' + str(most_common[i][0][0]) + '. It appears ' +  str(most_common[i][0][1]) + ' times.')         "
   ]
  },
  {
   "cell_type": "code",
   "execution_count": null,
   "metadata": {
    "collapsed": true
   },
   "outputs": [],
   "source": []
  }
 ],
 "metadata": {
  "anaconda-cloud": {},
  "kernelspec": {
   "display_name": "Python 3",
   "language": "python",
   "name": "python3"
  },
  "language_info": {
   "codemirror_mode": {
    "name": "ipython",
    "version": 3
   },
   "file_extension": ".py",
   "mimetype": "text/x-python",
   "name": "python",
   "nbconvert_exporter": "python",
   "pygments_lexer": "ipython3",
   "version": "3.6.1"
  }
 },
 "nbformat": 4,
 "nbformat_minor": 2
}
