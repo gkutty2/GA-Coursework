{
 "cells": [
  {
   "cell_type": "markdown",
   "metadata": {},
   "source": [
    "### Challenge 1: Largest Palindrome\n",
    "A palindromic number reads the same both ways. For example, 1234321 is a palindrome. The largest palindrome made from the product of two two-digit numbers is 9009 = 91 × 99. Find the largest palindrome made from the product of two three-digit numbers. Afterward, write a brief explanation walking through your code's logic in markdown."
   ]
  },
  {
   "cell_type": "markdown",
   "metadata": {},
   "source": [
    ">Create a function which inputs two integers and finds the largest palindrome made from the product of two integers with digit sizes equal to that of the inputs\n",
    ">* Use an outer loop to count down from the largest possible number\n",
    ">* If it's a palindrome, then:\n",
    ">* Use 2 inner loops to check if the product of any of the combinations equals the variable in the outer loop. If so, break."
   ]
  },
  {
   "cell_type": "code",
   "execution_count": 1,
   "metadata": {},
   "outputs": [
    {
     "data": {
      "text/plain": [
       "906609"
      ]
     },
     "execution_count": 1,
     "metadata": {},
     "output_type": "execute_result"
    }
   ],
   "source": [
    "def palindrome(a,b):\n",
    "    for n in range(10**a * 10**b,1,-1):\n",
    "        if str(n) == str(n)[::-1]:\n",
    "            for x in range(10**a,1,-1):\n",
    "                for y in range(10**b,1,-1):\n",
    "                    if x*y == n:\n",
    "                        return n\n",
    "                        break\n",
    "                else:\n",
    "                    continue\n",
    "                break\n",
    "            else:\n",
    "                continue\n",
    "            break\n",
    "\n",
    "palindrome(3,3)"
   ]
  },
  {
   "cell_type": "code",
   "execution_count": 25,
   "metadata": {},
   "outputs": [],
   "source": [
    "arglist = [[] for i in range(3)]\n",
    "\n",
    "arglist[0] = ['1']"
   ]
  },
  {
   "cell_type": "code",
   "execution_count": 26,
   "metadata": {},
   "outputs": [
    {
     "name": "stdout",
     "output_type": "stream",
     "text": [
      "2\n",
      "2\n",
      "[[0, 1, 2, 3, 4, 5, 6, 7, 8, 9, 10, 11, 12, 13, 14, 15, 16, 17, 18, 19, 20, 21, 22, 23, 24, 25, 26, 27, 28, 29, 30, 31, 32, 33, 34, 35, 36, 37, 38, 39, 40, 41, 42, 43, 44, 45, 46, 47, 48, 49, 50, 51, 52, 53, 54, 55, 56, 57, 58, 59, 60, 61, 62, 63, 64, 65, 66, 67, 68, 69, 70, 71, 72, 73, 74, 75, 76, 77, 78, 79, 80, 81, 82, 83, 84, 85, 86, 87, 88, 89, 90, 91, 92, 93, 94, 95, 96, 97, 98, 99], [0, 1, 2, 3, 4, 5, 6, 7, 8, 9, 10, 11, 12, 13, 14, 15, 16, 17, 18, 19, 20, 21, 22, 23, 24, 25, 26, 27, 28, 29, 30, 31, 32, 33, 34, 35, 36, 37, 38, 39, 40, 41, 42, 43, 44, 45, 46, 47, 48, 49, 50, 51, 52, 53, 54, 55, 56, 57, 58, 59, 60, 61, 62, 63, 64, 65, 66, 67, 68, 69, 70, 71, 72, 73, 74, 75, 76, 77, 78, 79, 80, 81, 82, 83, 84, 85, 86, 87, 88, 89, 90, 91, 92, 93, 94, 95, 96, 97, 98, 99]]\n"
     ]
    }
   ],
   "source": [
    "args = [2,2]\n",
    "maxnum = 1\n",
    "arglist = [[] for i in range(len(args))]\n",
    "i = 0\n",
    "for arg in args:\n",
    "    maxnum *= 10**arg\n",
    "    arglist[i] = [j for j in range(10**arg)]\n",
    "    i += 1\n",
    "print(arglist)"
   ]
  },
  {
   "cell_type": "code",
   "execution_count": null,
   "metadata": {
    "collapsed": true
   },
   "outputs": [],
   "source": [
    "def palindrome(*args):\n",
    "    maxnum = 1\n",
    "    arglist = [[] for i in range(len(args))]\n",
    "    i = 0\n",
    "    for arg in args:\n",
    "        maxnum *= 10**arg\n",
    "        arglist[i] = [j for j in range(10**arg)]\n",
    "        i += 1\n",
    "    for n in range(maxnum,1,-1):\n",
    "        if str(n) == str(n)[::-1]:\n",
    "                for x in range(10**a,1,-1):\n",
    "                    for y in range(10**b,1,-1):\n",
    "                        if x*y == n:\n",
    "                            return n\n",
    "                            break\n",
    "                    else:\n",
    "                        continue\n",
    "                    break\n",
    "                else:\n",
    "                    continue\n",
    "                break\n",
    "\n",
    "palindrome(3,3)\n",
    "\n",
    "\n",
    "[[],[]]"
   ]
  },
  {
   "cell_type": "markdown",
   "metadata": {},
   "source": [
    "\n",
    "### Challenge 2: Summation of Primes\n",
    "The sum of the primes below 10 is 2 + 3 + 5 + 7 = 17. Find the sum of all the primes below 2,000. Afterward, write a brief explanation walking through your code's logic in markdown."
   ]
  },
  {
   "cell_type": "markdown",
   "metadata": {},
   "source": [
    ">Create a function that inputs any integer and returns the sum of primes below that number:\n",
    ">* Create an outer loop that loops from 2 to the input variable - 1\n",
    ">* Create an inner loop that loops from 2 to the variable in the outer loop - 1\n",
    ">* if the modulus is zero, don't add that variable to the list, otherwise do."
   ]
  },
  {
   "cell_type": "code",
   "execution_count": 1,
   "metadata": {},
   "outputs": [
    {
     "data": {
      "text/plain": [
       "277050"
      ]
     },
     "execution_count": 1,
     "metadata": {},
     "output_type": "execute_result"
    }
   ],
   "source": [
    "def sum_of_primes(x):\n",
    "    p = []\n",
    "    for n in range(2,x):\n",
    "        for y in range(2,n):\n",
    "            if n%y == 0:\n",
    "                break\n",
    "        else:\n",
    "            p.append(n)\n",
    "    return sum(p)\n",
    "\n",
    "sum_of_primes(2000)"
   ]
  },
  {
   "cell_type": "markdown",
   "metadata": {},
   "source": [
    "### Challenge 3: Multiples of 3 and 5\n",
    "If we list all of the natural numbers below 10 that are multiples of 3 or 5, we get 3, 5, 6, and 9. The sum of these multiples is 23. Find the sum of all the multiples of 3 and 5 below 1,000. Afterward, write a brief explanation walking through your code's logic in markdown."
   ]
  },
  {
   "cell_type": "markdown",
   "metadata": {},
   "source": [
    ">Create a function that inputs any integer and returns the sum of numbers smaller than that integer that are divisible by either 3 or 5\n",
    ">* Loop through 3 and the input variable - 1\n",
    ">* If the modulus divided by 3 = 0 or the modulus divided by 5 = 0, append the loop variable to a list"
   ]
  },
  {
   "cell_type": "code",
   "execution_count": 3,
   "metadata": {},
   "outputs": [
    {
     "data": {
      "text/plain": [
       "233168"
      ]
     },
     "execution_count": 3,
     "metadata": {},
     "output_type": "execute_result"
    }
   ],
   "source": [
    "def sum_of_multiples(x):\n",
    "    m = []\n",
    "    for n in range(3,x):\n",
    "        if n%3 == 0 or n%5 == 0:\n",
    "            m.append(n)\n",
    "    return sum(m)\n",
    "\n",
    "sum_of_multiples(1000)"
   ]
  },
  {
   "cell_type": "markdown",
   "metadata": {},
   "source": [
    "### Challenge 4: String Compressor\n",
    "Implement a method to perform basic string compression using the counts of repeated characters. (This is called run-length encoding.) For example, the string \"aabcccccaaa\" would become a2b1c5a3. If the “compressed” string would not become smaller than the original string, your method should return the original string. You can assume the string has only uppercase and lowercase letters (a–z). Specify whether your solution is case sensitive or case insensitive and what you would need to change to make it the other. Afterward, write a brief explanation walking through your code's logic in markdown."
   ]
  },
  {
   "cell_type": "markdown",
   "metadata": {},
   "source": [
    ">* Define a function that takes a string as input\n",
    ">* Set a counter equal to 1\n",
    ">* Loop through the characters of the string\n",
    ">* If the adjoining string characters are equal, increment the counter and continue looping.  Otherwise, append the character plus the counter value, reset the counter to 1, and continue\n",
    ">* Finally, if the length of the new string is less than the length of the original string, return the new string, otherwise return the new string"
   ]
  },
  {
   "cell_type": "code",
   "execution_count": 4,
   "metadata": {},
   "outputs": [
    {
     "data": {
      "text/plain": [
       "'a2b1c5a3'"
      ]
     },
     "execution_count": 4,
     "metadata": {},
     "output_type": "execute_result"
    }
   ],
   "source": [
    "def string_compressor(x):\n",
    "    s = ''\n",
    "    n = 1\n",
    "    for i in range(1,len(x)):\n",
    "        if x[i-1] == x[i]:\n",
    "            n +=1\n",
    "        else:\n",
    "            s += x[i-1] + str(n)\n",
    "            n=1\n",
    "    s += x[len(x)-1] + str(n)\n",
    "    if len(s) < len(x):\n",
    "        return s\n",
    "    else:\n",
    "        return x\n",
    "            \n",
    "string_compressor('aabcccccaaa')"
   ]
  },
  {
   "cell_type": "markdown",
   "metadata": {},
   "source": [
    "### *BONUS* Challenge: FizzBuzz\n",
    "Write a program that prints all of the numbers from 1 to 100. For multiples of 3, instead of the number, print \"Fizz;\" for multiples of 5, print \"Buzz.\" For numbers that are multiples of both 3 and 5, print \"FizzBuzz.\" Afterward, write a brief explanation walking through your code's logic in markdown."
   ]
  },
  {
   "cell_type": "markdown",
   "metadata": {},
   "source": [
    ">Create a function that inputs a variable\n",
    ">* Loop through 1 and the number\n",
    ">* If the loop variable is not divisible by 5 and is also not divisible by 5, print the variable.\n",
    ">* Otherwise, if the loop variable is divisible by both 3 and 5, print 'FizzBuzz'\n",
    ">* Otherwise, if the loop variable is divisibly by 3, print \"Fizz\"\n",
    ">* Otherwise print \"Buzz\""
   ]
  },
  {
   "cell_type": "code",
   "execution_count": 5,
   "metadata": {},
   "outputs": [
    {
     "name": "stdout",
     "output_type": "stream",
     "text": [
      "1\n",
      "2\n",
      "Fizz\n",
      "4\n",
      "Buzz\n",
      "Fizz\n",
      "7\n",
      "8\n",
      "Fizz\n",
      "Buzz\n",
      "11\n",
      "Fizz\n",
      "13\n",
      "14\n",
      "FizzBuzz\n",
      "16\n",
      "17\n",
      "Fizz\n",
      "19\n",
      "Buzz\n",
      "Fizz\n",
      "22\n",
      "23\n",
      "Fizz\n",
      "Buzz\n",
      "26\n",
      "Fizz\n",
      "28\n",
      "29\n",
      "FizzBuzz\n",
      "31\n",
      "32\n",
      "Fizz\n",
      "34\n",
      "Buzz\n",
      "Fizz\n",
      "37\n",
      "38\n",
      "Fizz\n",
      "Buzz\n",
      "41\n",
      "Fizz\n",
      "43\n",
      "44\n",
      "FizzBuzz\n",
      "46\n",
      "47\n",
      "Fizz\n",
      "49\n",
      "Buzz\n",
      "Fizz\n",
      "52\n",
      "53\n",
      "Fizz\n",
      "Buzz\n",
      "56\n",
      "Fizz\n",
      "58\n",
      "59\n",
      "FizzBuzz\n",
      "61\n",
      "62\n",
      "Fizz\n",
      "64\n",
      "Buzz\n",
      "Fizz\n",
      "67\n",
      "68\n",
      "Fizz\n",
      "Buzz\n",
      "71\n",
      "Fizz\n",
      "73\n",
      "74\n",
      "FizzBuzz\n",
      "76\n",
      "77\n",
      "Fizz\n",
      "79\n",
      "Buzz\n",
      "Fizz\n",
      "82\n",
      "83\n",
      "Fizz\n",
      "Buzz\n",
      "86\n",
      "Fizz\n",
      "88\n",
      "89\n",
      "FizzBuzz\n",
      "91\n",
      "92\n",
      "Fizz\n",
      "94\n",
      "Buzz\n",
      "Fizz\n",
      "97\n",
      "98\n",
      "Fizz\n",
      "Buzz\n"
     ]
    }
   ],
   "source": [
    "def fizzbuzz(x):\n",
    "    for i in range(1,x+1):\n",
    "        if i%3 != 0 and i%5 != 0:\n",
    "            print(i)\n",
    "        elif i%3 == 0 and i%5 == 0:\n",
    "            print('FizzBuzz')\n",
    "        elif i%3 == 0:\n",
    "            print('Fizz')\n",
    "        else:\n",
    "            print('Buzz')\n",
    "            \n",
    "fizzbuzz(100)"
   ]
  }
 ],
 "metadata": {
  "anaconda-cloud": {},
  "kernelspec": {
   "display_name": "Python 3",
   "language": "python",
   "name": "python3"
  },
  "language_info": {
   "codemirror_mode": {
    "name": "ipython",
    "version": 3
   },
   "file_extension": ".py",
   "mimetype": "text/x-python",
   "name": "python",
   "nbconvert_exporter": "python",
   "pygments_lexer": "ipython3",
   "version": "3.6.1"
  }
 },
 "nbformat": 4,
 "nbformat_minor": 2
}
