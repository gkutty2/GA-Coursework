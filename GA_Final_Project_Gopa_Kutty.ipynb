{
 "cells": [
  {
   "cell_type": "markdown",
   "metadata": {},
   "source": [
    "# Predicting when a user agrees to rate the app\n",
    "\n",
    "For my final project, I am using real data from my work at GSN Games, a mobile gaming company, to predict when a user will agree to rate the app.  The name of the app is Solitaire TriPeaks.\n",
    "\n",
    "When a user installs the app and reaches Level 30, they are shown a dialog asking them to rate the App.  Since nearly all users who agree to rate the app give it a positive rating, we can potentially increase the number of ratings by surfacing the dialog at a time when we predict that the user will mostly likely agree to rate the app.\n",
    "\n",
    "For my dataset, I included all users who installed the game between June 1, 2017 and May 31, 2018.  The total number of users (and therefore rows) is ~2.4M.\n",
    "\n",
    "The following is a description of the columns in my dataset:\n",
    "* **synthetic_id**:  This is the unique identifier of the user\n",
    "* **red_stars**:  This is a measure of the user's engagement.  The more red stars, the higher the engagement.  The values range from 0-6\n",
    "* **joined_club**:  This is a binary which indicates whether the user has joined a club.  Clubs are feature in the game that allows the user to collaborate with other users.  \n",
    "* **tenure**:  This is the number of days between the time that the user installed the game and when they were asked to rate the game\n",
    "* **payer**:  This is a binary which indicates whether the user has paid real money in the game.\n",
    "* **win_loss**:  This is the user's win/loss percentage in the games played prior to being asked to rate the game.\n",
    "* **rated_app**:  This is what we are trying to predict.  It is a binary indicating whether the user agreed to rate the app."
   ]
  },
  {
   "cell_type": "markdown",
   "metadata": {},
   "source": [
    "## Import dataset from dropbox\n",
    "\n",
    "The data was exported from my company datawarehouse to a csv file on dropbox"
   ]
  },
  {
   "cell_type": "code",
   "execution_count": 162,
   "metadata": {
    "ExecuteTime": {
     "end_time": "2018-10-29T04:43:38.254994Z",
     "start_time": "2018-10-29T04:43:38.250492Z"
    }
   },
   "outputs": [],
   "source": [
    "import numpy as np\n",
    "import seaborn as sns\n",
    "import matplotlib.pyplot as plt\n",
    "from sklearn import linear_model, model_selection, metrics, tree"
   ]
  },
  {
   "cell_type": "code",
   "execution_count": 152,
   "metadata": {
    "ExecuteTime": {
     "end_time": "2018-10-29T02:44:09.360814Z",
     "start_time": "2018-10-29T02:44:03.415376Z"
    }
   },
   "outputs": [],
   "source": [
    "# Import the dataset from dropbox to a dataframe.\n",
    "df = pd.read_csv('https://www.dropbox.com/s/xugzktmpkvniuyl/data_export_all.csv?dl=1')"
   ]
  },
  {
   "cell_type": "markdown",
   "metadata": {
    "ExecuteTime": {
     "end_time": "2018-10-27T18:49:56.533488Z",
     "start_time": "2018-10-27T18:49:56.531011Z"
    }
   },
   "source": [
    "## Examine the data using:  head, shape, describe, isnull, dtypes"
   ]
  },
  {
   "cell_type": "code",
   "execution_count": 3,
   "metadata": {
    "ExecuteTime": {
     "end_time": "2018-10-27T18:36:14.428234Z",
     "start_time": "2018-10-27T18:36:14.404111Z"
    }
   },
   "outputs": [
    {
     "data": {
      "text/html": [
       "<div>\n",
       "<style scoped>\n",
       "    .dataframe tbody tr th:only-of-type {\n",
       "        vertical-align: middle;\n",
       "    }\n",
       "\n",
       "    .dataframe tbody tr th {\n",
       "        vertical-align: top;\n",
       "    }\n",
       "\n",
       "    .dataframe thead th {\n",
       "        text-align: right;\n",
       "    }\n",
       "</style>\n",
       "<table border=\"1\" class=\"dataframe\">\n",
       "  <thead>\n",
       "    <tr style=\"text-align: right;\">\n",
       "      <th></th>\n",
       "      <th>synthetic_id</th>\n",
       "      <th>red_stars</th>\n",
       "      <th>joined_club</th>\n",
       "      <th>tenure</th>\n",
       "      <th>payer</th>\n",
       "      <th>win_loss</th>\n",
       "      <th>rated_app</th>\n",
       "    </tr>\n",
       "  </thead>\n",
       "  <tbody>\n",
       "    <tr>\n",
       "      <th>0</th>\n",
       "      <td>000053a0-1f3e-401a-84f9-9579c023b13e</td>\n",
       "      <td>3</td>\n",
       "      <td>1</td>\n",
       "      <td>5</td>\n",
       "      <td>0</td>\n",
       "      <td>28</td>\n",
       "      <td>0</td>\n",
       "    </tr>\n",
       "    <tr>\n",
       "      <th>1</th>\n",
       "      <td>0001cc24-31a7-4bbc-bdf3-7bc1bcf874fa</td>\n",
       "      <td>2</td>\n",
       "      <td>1</td>\n",
       "      <td>6</td>\n",
       "      <td>0</td>\n",
       "      <td>36</td>\n",
       "      <td>1</td>\n",
       "    </tr>\n",
       "    <tr>\n",
       "      <th>2</th>\n",
       "      <td>000222f9-6962-4c85-a428-4bbd5377efea</td>\n",
       "      <td>0</td>\n",
       "      <td>0</td>\n",
       "      <td>0</td>\n",
       "      <td>0</td>\n",
       "      <td>41</td>\n",
       "      <td>1</td>\n",
       "    </tr>\n",
       "    <tr>\n",
       "      <th>3</th>\n",
       "      <td>00030a10-2e0e-402d-afd0-d24c4f229541</td>\n",
       "      <td>0</td>\n",
       "      <td>1</td>\n",
       "      <td>3</td>\n",
       "      <td>0</td>\n",
       "      <td>43</td>\n",
       "      <td>0</td>\n",
       "    </tr>\n",
       "    <tr>\n",
       "      <th>4</th>\n",
       "      <td>00031460-4be6-43a7-ac82-9c975a0d74a8</td>\n",
       "      <td>0</td>\n",
       "      <td>1</td>\n",
       "      <td>52</td>\n",
       "      <td>0</td>\n",
       "      <td>82</td>\n",
       "      <td>0</td>\n",
       "    </tr>\n",
       "  </tbody>\n",
       "</table>\n",
       "</div>"
      ],
      "text/plain": [
       "                           synthetic_id  red_stars  joined_club  tenure  \\\n",
       "0  000053a0-1f3e-401a-84f9-9579c023b13e          3            1       5   \n",
       "1  0001cc24-31a7-4bbc-bdf3-7bc1bcf874fa          2            1       6   \n",
       "2  000222f9-6962-4c85-a428-4bbd5377efea          0            0       0   \n",
       "3  00030a10-2e0e-402d-afd0-d24c4f229541          0            1       3   \n",
       "4  00031460-4be6-43a7-ac82-9c975a0d74a8          0            1      52   \n",
       "\n",
       "   payer  win_loss  rated_app  \n",
       "0      0        28          0  \n",
       "1      0        36          1  \n",
       "2      0        41          1  \n",
       "3      0        43          0  \n",
       "4      0        82          0  "
      ]
     },
     "execution_count": 3,
     "metadata": {},
     "output_type": "execute_result"
    }
   ],
   "source": [
    "df.head()"
   ]
  },
  {
   "cell_type": "code",
   "execution_count": 4,
   "metadata": {
    "ExecuteTime": {
     "end_time": "2018-10-27T18:36:14.433227Z",
     "start_time": "2018-10-27T18:36:14.430037Z"
    }
   },
   "outputs": [
    {
     "data": {
      "text/plain": [
       "(2429373, 7)"
      ]
     },
     "execution_count": 4,
     "metadata": {},
     "output_type": "execute_result"
    }
   ],
   "source": [
    "df.shape"
   ]
  },
  {
   "cell_type": "code",
   "execution_count": 5,
   "metadata": {
    "ExecuteTime": {
     "end_time": "2018-10-27T18:36:19.110113Z",
     "start_time": "2018-10-27T18:36:14.435036Z"
    }
   },
   "outputs": [
    {
     "data": {
      "text/html": [
       "<div>\n",
       "<style scoped>\n",
       "    .dataframe tbody tr th:only-of-type {\n",
       "        vertical-align: middle;\n",
       "    }\n",
       "\n",
       "    .dataframe tbody tr th {\n",
       "        vertical-align: top;\n",
       "    }\n",
       "\n",
       "    .dataframe thead th {\n",
       "        text-align: right;\n",
       "    }\n",
       "</style>\n",
       "<table border=\"1\" class=\"dataframe\">\n",
       "  <thead>\n",
       "    <tr style=\"text-align: right;\">\n",
       "      <th></th>\n",
       "      <th>synthetic_id</th>\n",
       "      <th>red_stars</th>\n",
       "      <th>joined_club</th>\n",
       "      <th>tenure</th>\n",
       "      <th>payer</th>\n",
       "      <th>win_loss</th>\n",
       "      <th>rated_app</th>\n",
       "    </tr>\n",
       "  </thead>\n",
       "  <tbody>\n",
       "    <tr>\n",
       "      <th>count</th>\n",
       "      <td>2429373</td>\n",
       "      <td>2.429373e+06</td>\n",
       "      <td>2.429373e+06</td>\n",
       "      <td>2.429373e+06</td>\n",
       "      <td>2.429373e+06</td>\n",
       "      <td>2.429373e+06</td>\n",
       "      <td>2.429373e+06</td>\n",
       "    </tr>\n",
       "    <tr>\n",
       "      <th>unique</th>\n",
       "      <td>2429373</td>\n",
       "      <td>NaN</td>\n",
       "      <td>NaN</td>\n",
       "      <td>NaN</td>\n",
       "      <td>NaN</td>\n",
       "      <td>NaN</td>\n",
       "      <td>NaN</td>\n",
       "    </tr>\n",
       "    <tr>\n",
       "      <th>top</th>\n",
       "      <td>14c90347-7109-4169-8c29-3152715f50a1</td>\n",
       "      <td>NaN</td>\n",
       "      <td>NaN</td>\n",
       "      <td>NaN</td>\n",
       "      <td>NaN</td>\n",
       "      <td>NaN</td>\n",
       "      <td>NaN</td>\n",
       "    </tr>\n",
       "    <tr>\n",
       "      <th>freq</th>\n",
       "      <td>1</td>\n",
       "      <td>NaN</td>\n",
       "      <td>NaN</td>\n",
       "      <td>NaN</td>\n",
       "      <td>NaN</td>\n",
       "      <td>NaN</td>\n",
       "      <td>NaN</td>\n",
       "    </tr>\n",
       "    <tr>\n",
       "      <th>mean</th>\n",
       "      <td>NaN</td>\n",
       "      <td>7.867256e-01</td>\n",
       "      <td>7.486500e-01</td>\n",
       "      <td>1.181892e+01</td>\n",
       "      <td>2.270709e-02</td>\n",
       "      <td>4.551437e+01</td>\n",
       "      <td>1.896765e-01</td>\n",
       "    </tr>\n",
       "    <tr>\n",
       "      <th>std</th>\n",
       "      <td>NaN</td>\n",
       "      <td>1.221083e+00</td>\n",
       "      <td>4.337894e-01</td>\n",
       "      <td>3.280495e+01</td>\n",
       "      <td>1.489681e-01</td>\n",
       "      <td>1.879203e+01</td>\n",
       "      <td>3.920451e-01</td>\n",
       "    </tr>\n",
       "    <tr>\n",
       "      <th>min</th>\n",
       "      <td>NaN</td>\n",
       "      <td>0.000000e+00</td>\n",
       "      <td>0.000000e+00</td>\n",
       "      <td>0.000000e+00</td>\n",
       "      <td>0.000000e+00</td>\n",
       "      <td>0.000000e+00</td>\n",
       "      <td>0.000000e+00</td>\n",
       "    </tr>\n",
       "    <tr>\n",
       "      <th>25%</th>\n",
       "      <td>NaN</td>\n",
       "      <td>0.000000e+00</td>\n",
       "      <td>0.000000e+00</td>\n",
       "      <td>0.000000e+00</td>\n",
       "      <td>0.000000e+00</td>\n",
       "      <td>3.200000e+01</td>\n",
       "      <td>0.000000e+00</td>\n",
       "    </tr>\n",
       "    <tr>\n",
       "      <th>50%</th>\n",
       "      <td>NaN</td>\n",
       "      <td>0.000000e+00</td>\n",
       "      <td>1.000000e+00</td>\n",
       "      <td>2.000000e+00</td>\n",
       "      <td>0.000000e+00</td>\n",
       "      <td>4.100000e+01</td>\n",
       "      <td>0.000000e+00</td>\n",
       "    </tr>\n",
       "    <tr>\n",
       "      <th>75%</th>\n",
       "      <td>NaN</td>\n",
       "      <td>2.000000e+00</td>\n",
       "      <td>1.000000e+00</td>\n",
       "      <td>8.000000e+00</td>\n",
       "      <td>0.000000e+00</td>\n",
       "      <td>5.600000e+01</td>\n",
       "      <td>0.000000e+00</td>\n",
       "    </tr>\n",
       "    <tr>\n",
       "      <th>max</th>\n",
       "      <td>NaN</td>\n",
       "      <td>6.000000e+00</td>\n",
       "      <td>1.000000e+00</td>\n",
       "      <td>4.850000e+02</td>\n",
       "      <td>1.000000e+00</td>\n",
       "      <td>1.000000e+02</td>\n",
       "      <td>1.000000e+00</td>\n",
       "    </tr>\n",
       "  </tbody>\n",
       "</table>\n",
       "</div>"
      ],
      "text/plain": [
       "                                synthetic_id     red_stars   joined_club  \\\n",
       "count                                2429373  2.429373e+06  2.429373e+06   \n",
       "unique                               2429373           NaN           NaN   \n",
       "top     14c90347-7109-4169-8c29-3152715f50a1           NaN           NaN   \n",
       "freq                                       1           NaN           NaN   \n",
       "mean                                     NaN  7.867256e-01  7.486500e-01   \n",
       "std                                      NaN  1.221083e+00  4.337894e-01   \n",
       "min                                      NaN  0.000000e+00  0.000000e+00   \n",
       "25%                                      NaN  0.000000e+00  0.000000e+00   \n",
       "50%                                      NaN  0.000000e+00  1.000000e+00   \n",
       "75%                                      NaN  2.000000e+00  1.000000e+00   \n",
       "max                                      NaN  6.000000e+00  1.000000e+00   \n",
       "\n",
       "              tenure         payer      win_loss     rated_app  \n",
       "count   2.429373e+06  2.429373e+06  2.429373e+06  2.429373e+06  \n",
       "unique           NaN           NaN           NaN           NaN  \n",
       "top              NaN           NaN           NaN           NaN  \n",
       "freq             NaN           NaN           NaN           NaN  \n",
       "mean    1.181892e+01  2.270709e-02  4.551437e+01  1.896765e-01  \n",
       "std     3.280495e+01  1.489681e-01  1.879203e+01  3.920451e-01  \n",
       "min     0.000000e+00  0.000000e+00  0.000000e+00  0.000000e+00  \n",
       "25%     0.000000e+00  0.000000e+00  3.200000e+01  0.000000e+00  \n",
       "50%     2.000000e+00  0.000000e+00  4.100000e+01  0.000000e+00  \n",
       "75%     8.000000e+00  0.000000e+00  5.600000e+01  0.000000e+00  \n",
       "max     4.850000e+02  1.000000e+00  1.000000e+02  1.000000e+00  "
      ]
     },
     "execution_count": 5,
     "metadata": {},
     "output_type": "execute_result"
    }
   ],
   "source": [
    "df.describe(include = 'all')"
   ]
  },
  {
   "cell_type": "code",
   "execution_count": 16,
   "metadata": {
    "ExecuteTime": {
     "end_time": "2018-10-27T18:37:47.227866Z",
     "start_time": "2018-10-27T18:37:46.836021Z"
    }
   },
   "outputs": [
    {
     "data": {
      "text/plain": [
       "synthetic_id    0\n",
       "red_stars       0\n",
       "joined_club     0\n",
       "tenure          0\n",
       "payer           0\n",
       "win_loss        0\n",
       "rated_app       0\n",
       "dtype: int64"
      ]
     },
     "execution_count": 16,
     "metadata": {},
     "output_type": "execute_result"
    }
   ],
   "source": [
    "df.isnull().sum()"
   ]
  },
  {
   "cell_type": "code",
   "execution_count": 17,
   "metadata": {
    "ExecuteTime": {
     "end_time": "2018-10-27T18:37:57.313517Z",
     "start_time": "2018-10-27T18:37:57.307089Z"
    }
   },
   "outputs": [
    {
     "data": {
      "text/plain": [
       "synthetic_id    object\n",
       "red_stars        int64\n",
       "joined_club      int64\n",
       "tenure           int64\n",
       "payer            int64\n",
       "win_loss         int64\n",
       "rated_app        int64\n",
       "dtype: object"
      ]
     },
     "execution_count": 17,
     "metadata": {},
     "output_type": "execute_result"
    }
   ],
   "source": [
    "df.dtypes"
   ]
  },
  {
   "cell_type": "markdown",
   "metadata": {},
   "source": [
    "## Histograms\n",
    "\n",
    "Generate a pair of histograms for each independent variable for the cases where the binary dependent variable (rated_app) is 0 and 1.\n",
    "\n",
    "For all independent variables, it appears that the rated_app = 0 and rated_app = 1 histograms look very similar.  This portends a weak predictive model."
   ]
  },
  {
   "cell_type": "markdown",
   "metadata": {},
   "source": [
    "### Histograms for:  red_stars"
   ]
  },
  {
   "cell_type": "code",
   "execution_count": 155,
   "metadata": {
    "ExecuteTime": {
     "end_time": "2018-10-29T04:22:48.788199Z",
     "start_time": "2018-10-29T04:22:48.291845Z"
    }
   },
   "outputs": [
    {
     "data": {
      "text/plain": [
       "array([[<matplotlib.axes._subplots.AxesSubplot object at 0x7f5c99d1c128>]],\n",
       "      dtype=object)"
      ]
     },
     "execution_count": 155,
     "metadata": {},
     "output_type": "execute_result"
    },
    {
     "data": {
      "image/png": "[encoded data removed]",
      "text/plain": [
       "<Figure size 432x288 with 1 Axes>"
      ]
     },
     "metadata": {},
     "output_type": "display_data"
    }
   ],
   "source": [
    "df[(df.rated_app == 0)].hist(column='red_stars')"
   ]
  },
  {
   "cell_type": "code",
   "execution_count": 7,
   "metadata": {
    "ExecuteTime": {
     "end_time": "2018-10-27T18:36:19.975638Z",
     "start_time": "2018-10-27T18:36:19.728408Z"
    }
   },
   "outputs": [
    {
     "data": {
      "text/plain": [
       "array([[<matplotlib.axes._subplots.AxesSubplot object at 0x7f5d04e161d0>]],\n",
       "      dtype=object)"
      ]
     },
     "execution_count": 7,
     "metadata": {},
     "output_type": "execute_result"
    },
    {
     "data": {
      "image/png": "[encoded data removed]",
      "text/plain": [
       "<Figure size 432x288 with 1 Axes>"
      ]
     },
     "metadata": {},
     "output_type": "display_data"
    }
   ],
   "source": [
    "df[(df.rated_app == 1)].hist(column='red_stars') "
   ]
  },
  {
   "cell_type": "markdown",
   "metadata": {},
   "source": [
    "### Histograms for:  joined_club"
   ]
  },
  {
   "cell_type": "code",
   "execution_count": 8,
   "metadata": {
    "ExecuteTime": {
     "end_time": "2018-10-27T18:36:20.372561Z",
     "start_time": "2018-10-27T18:36:19.977439Z"
    }
   },
   "outputs": [
    {
     "data": {
      "text/plain": [
       "array([[<matplotlib.axes._subplots.AxesSubplot object at 0x7f5d04e3fa20>]],\n",
       "      dtype=object)"
      ]
     },
     "execution_count": 8,
     "metadata": {},
     "output_type": "execute_result"
    },
    {
     "data": {
      "image/png": "[encoded data removed]",
      "text/plain": [
       "<Figure size 432x288 with 1 Axes>"
      ]
     },
     "metadata": {},
     "output_type": "display_data"
    }
   ],
   "source": [
    "df[(df.rated_app == 0)].hist(column='joined_club') "
   ]
  },
  {
   "cell_type": "code",
   "execution_count": 9,
   "metadata": {
    "ExecuteTime": {
     "end_time": "2018-10-27T18:36:20.627942Z",
     "start_time": "2018-10-27T18:36:20.374376Z"
    }
   },
   "outputs": [
    {
     "data": {
      "text/plain": [
       "array([[<matplotlib.axes._subplots.AxesSubplot object at 0x7f5cfb5e9320>]],\n",
       "      dtype=object)"
      ]
     },
     "execution_count": 9,
     "metadata": {},
     "output_type": "execute_result"
    },
    {
     "data": {
      "image/png": "[encoded data removed]",
      "text/plain": [
       "<Figure size 432x288 with 1 Axes>"
      ]
     },
     "metadata": {},
     "output_type": "display_data"
    }
   ],
   "source": [
    "df[(df.rated_app == 1)].hist(column='joined_club') "
   ]
  },
  {
   "cell_type": "markdown",
   "metadata": {
    "ExecuteTime": {
     "end_time": "2018-10-27T19:06:16.380922Z",
     "start_time": "2018-10-27T19:06:16.377887Z"
    }
   },
   "source": [
    "### Histograms for:  tenure"
   ]
  },
  {
   "cell_type": "code",
   "execution_count": 10,
   "metadata": {
    "ExecuteTime": {
     "end_time": "2018-10-27T18:36:21.084099Z",
     "start_time": "2018-10-27T18:36:20.629738Z"
    }
   },
   "outputs": [
    {
     "data": {
      "text/plain": [
       "array([[<matplotlib.axes._subplots.AxesSubplot object at 0x7f5d01016d68>]],\n",
       "      dtype=object)"
      ]
     },
     "execution_count": 10,
     "metadata": {},
     "output_type": "execute_result"
    },
    {
     "data": {
      "image/png": "[encoded data removed]",
      "text/plain": [
       "<Figure size 432x288 with 1 Axes>"
      ]
     },
     "metadata": {},
     "output_type": "display_data"
    }
   ],
   "source": [
    "df[(df.rated_app == 0)].hist(column='tenure', bins = 50) "
   ]
  },
  {
   "cell_type": "code",
   "execution_count": 11,
   "metadata": {
    "ExecuteTime": {
     "end_time": "2018-10-27T18:36:21.434065Z",
     "start_time": "2018-10-27T18:36:21.085891Z"
    }
   },
   "outputs": [
    {
     "data": {
      "text/plain": [
       "array([[<matplotlib.axes._subplots.AxesSubplot object at 0x7f5d00f4d4a8>]],\n",
       "      dtype=object)"
      ]
     },
     "execution_count": 11,
     "metadata": {},
     "output_type": "execute_result"
    },
    {
     "data": {
      "image/png": "[encoded data removed]",
      "text/plain": [
       "<Figure size 432x288 with 1 Axes>"
      ]
     },
     "metadata": {},
     "output_type": "display_data"
    }
   ],
   "source": [
    "df[(df.rated_app == 1)].hist(column='tenure', bins = 50) "
   ]
  },
  {
   "cell_type": "markdown",
   "metadata": {},
   "source": [
    "### Histograms for:  payer"
   ]
  },
  {
   "cell_type": "code",
   "execution_count": 12,
   "metadata": {
    "ExecuteTime": {
     "end_time": "2018-10-27T18:36:21.820230Z",
     "start_time": "2018-10-27T18:36:21.435892Z"
    }
   },
   "outputs": [
    {
     "data": {
      "text/plain": [
       "array([[<matplotlib.axes._subplots.AxesSubplot object at 0x7f5d00e8bf98>]],\n",
       "      dtype=object)"
      ]
     },
     "execution_count": 12,
     "metadata": {},
     "output_type": "execute_result"
    },
    {
     "data": {
      "image/png": "[encoded data removed]",
      "text/plain": [
       "<Figure size 432x288 with 1 Axes>"
      ]
     },
     "metadata": {},
     "output_type": "display_data"
    }
   ],
   "source": [
    "df[(df.rated_app == 0)].hist(column='payer') "
   ]
  },
  {
   "cell_type": "code",
   "execution_count": 13,
   "metadata": {
    "ExecuteTime": {
     "end_time": "2018-10-27T18:36:22.057397Z",
     "start_time": "2018-10-27T18:36:21.822039Z"
    }
   },
   "outputs": [
    {
     "data": {
      "text/plain": [
       "array([[<matplotlib.axes._subplots.AxesSubplot object at 0x7f5d00d72908>]],\n",
       "      dtype=object)"
      ]
     },
     "execution_count": 13,
     "metadata": {},
     "output_type": "execute_result"
    },
    {
     "data": {
      "image/png": "[encoded data removed]",
      "text/plain": [
       "<Figure size 432x288 with 1 Axes>"
      ]
     },
     "metadata": {},
     "output_type": "display_data"
    }
   ],
   "source": [
    "df[(df.rated_app == 1)].hist(column='payer') "
   ]
  },
  {
   "cell_type": "markdown",
   "metadata": {},
   "source": [
    "### Histograms for:  win_loss"
   ]
  },
  {
   "cell_type": "code",
   "execution_count": 14,
   "metadata": {
    "ExecuteTime": {
     "end_time": "2018-10-27T18:36:22.424096Z",
     "start_time": "2018-10-27T18:36:22.059231Z"
    }
   },
   "outputs": [
    {
     "data": {
      "text/plain": [
       "array([[<matplotlib.axes._subplots.AxesSubplot object at 0x7f5d00dd0a20>]],\n",
       "      dtype=object)"
      ]
     },
     "execution_count": 14,
     "metadata": {},
     "output_type": "execute_result"
    },
    {
     "data": {
      "image/png": "[encoded data removed]",
      "text/plain": [
       "<Figure size 432x288 with 1 Axes>"
      ]
     },
     "metadata": {},
     "output_type": "display_data"
    }
   ],
   "source": [
    "df[(df.rated_app == 0)].hist(column='win_loss')"
   ]
  },
  {
   "cell_type": "code",
   "execution_count": 15,
   "metadata": {
    "ExecuteTime": {
     "end_time": "2018-10-27T18:36:22.669591Z",
     "start_time": "2018-10-27T18:36:22.425879Z"
    }
   },
   "outputs": [
    {
     "data": {
      "text/plain": [
       "array([[<matplotlib.axes._subplots.AxesSubplot object at 0x7f5d00decd30>]],\n",
       "      dtype=object)"
      ]
     },
     "execution_count": 15,
     "metadata": {},
     "output_type": "execute_result"
    },
    {
     "data": {
      "image/png": "[encoded data removed]",
      "text/plain": [
       "<Figure size 432x288 with 1 Axes>"
      ]
     },
     "metadata": {},
     "output_type": "display_data"
    }
   ],
   "source": [
    "df[(df.rated_app == 1)].hist(column='win_loss') "
   ]
  },
  {
   "cell_type": "markdown",
   "metadata": {
    "ExecuteTime": {
     "end_time": "2018-10-27T20:58:30.397831Z",
     "start_time": "2018-10-27T20:58:30.395230Z"
    }
   },
   "source": [
    "## Correlations"
   ]
  },
  {
   "cell_type": "code",
   "execution_count": 22,
   "metadata": {
    "ExecuteTime": {
     "end_time": "2018-10-27T19:31:21.763586Z",
     "start_time": "2018-10-27T19:31:21.423774Z"
    }
   },
   "outputs": [
    {
     "data": {
      "text/html": [
       "<div>\n",
       "<style scoped>\n",
       "    .dataframe tbody tr th:only-of-type {\n",
       "        vertical-align: middle;\n",
       "    }\n",
       "\n",
       "    .dataframe tbody tr th {\n",
       "        vertical-align: top;\n",
       "    }\n",
       "\n",
       "    .dataframe thead th {\n",
       "        text-align: right;\n",
       "    }\n",
       "</style>\n",
       "<table border=\"1\" class=\"dataframe\">\n",
       "  <thead>\n",
       "    <tr style=\"text-align: right;\">\n",
       "      <th></th>\n",
       "      <th>red_stars</th>\n",
       "      <th>joined_club</th>\n",
       "      <th>tenure</th>\n",
       "      <th>payer</th>\n",
       "      <th>win_loss</th>\n",
       "      <th>rated_app</th>\n",
       "    </tr>\n",
       "  </thead>\n",
       "  <tbody>\n",
       "    <tr>\n",
       "      <th>red_stars</th>\n",
       "      <td>1.000000</td>\n",
       "      <td>0.373317</td>\n",
       "      <td>0.158152</td>\n",
       "      <td>0.097228</td>\n",
       "      <td>-0.096658</td>\n",
       "      <td>0.016742</td>\n",
       "    </tr>\n",
       "    <tr>\n",
       "      <th>joined_club</th>\n",
       "      <td>0.373317</td>\n",
       "      <td>1.000000</td>\n",
       "      <td>0.208699</td>\n",
       "      <td>0.088322</td>\n",
       "      <td>-0.159354</td>\n",
       "      <td>0.036304</td>\n",
       "    </tr>\n",
       "    <tr>\n",
       "      <th>tenure</th>\n",
       "      <td>0.158152</td>\n",
       "      <td>0.208699</td>\n",
       "      <td>1.000000</td>\n",
       "      <td>0.040395</td>\n",
       "      <td>-0.008321</td>\n",
       "      <td>0.007538</td>\n",
       "    </tr>\n",
       "    <tr>\n",
       "      <th>payer</th>\n",
       "      <td>0.097228</td>\n",
       "      <td>0.088322</td>\n",
       "      <td>0.040395</td>\n",
       "      <td>1.000000</td>\n",
       "      <td>0.027716</td>\n",
       "      <td>0.009717</td>\n",
       "    </tr>\n",
       "    <tr>\n",
       "      <th>win_loss</th>\n",
       "      <td>-0.096658</td>\n",
       "      <td>-0.159354</td>\n",
       "      <td>-0.008321</td>\n",
       "      <td>0.027716</td>\n",
       "      <td>1.000000</td>\n",
       "      <td>-0.014697</td>\n",
       "    </tr>\n",
       "    <tr>\n",
       "      <th>rated_app</th>\n",
       "      <td>0.016742</td>\n",
       "      <td>0.036304</td>\n",
       "      <td>0.007538</td>\n",
       "      <td>0.009717</td>\n",
       "      <td>-0.014697</td>\n",
       "      <td>1.000000</td>\n",
       "    </tr>\n",
       "  </tbody>\n",
       "</table>\n",
       "</div>"
      ],
      "text/plain": [
       "             red_stars  joined_club    tenure     payer  win_loss  rated_app\n",
       "red_stars     1.000000     0.373317  0.158152  0.097228 -0.096658   0.016742\n",
       "joined_club   0.373317     1.000000  0.208699  0.088322 -0.159354   0.036304\n",
       "tenure        0.158152     0.208699  1.000000  0.040395 -0.008321   0.007538\n",
       "payer         0.097228     0.088322  0.040395  1.000000  0.027716   0.009717\n",
       "win_loss     -0.096658    -0.159354 -0.008321  0.027716  1.000000  -0.014697\n",
       "rated_app     0.016742     0.036304  0.007538  0.009717 -0.014697   1.000000"
      ]
     },
     "execution_count": 22,
     "metadata": {},
     "output_type": "execute_result"
    }
   ],
   "source": [
    "df.corr()"
   ]
  },
  {
   "cell_type": "code",
   "execution_count": 25,
   "metadata": {
    "ExecuteTime": {
     "end_time": "2018-10-27T19:41:40.218904Z",
     "start_time": "2018-10-27T19:41:39.617024Z"
    }
   },
   "outputs": [
    {
     "data": {
      "text/plain": [
       "<matplotlib.axes._subplots.AxesSubplot at 0x7f5d88fdebe0>"
      ]
     },
     "execution_count": 25,
     "metadata": {},
     "output_type": "execute_result"
    },
    {
     "data": {
      "image/png": "[encoded data removed]",
      "text/plain": [
       "<Figure size 432x288 with 2 Axes>"
      ]
     },
     "metadata": {},
     "output_type": "display_data"
    }
   ],
   "source": [
    "sns.heatmap(df.corr())"
   ]
  },
  {
   "cell_type": "markdown",
   "metadata": {},
   "source": [
    "## Create test-train Logistic Regression model\n",
    "\n",
    "Prepare a feature matrix (X) and response (y) for scikit-learn."
   ]
  },
  {
   "cell_type": "code",
   "execution_count": 38,
   "metadata": {
    "ExecuteTime": {
     "end_time": "2018-10-27T21:12:59.333522Z",
     "start_time": "2018-10-27T21:12:59.262464Z"
    }
   },
   "outputs": [],
   "source": [
    "# Fit a logistic regression model\n",
    "from sklearn.linear_model import LogisticRegression\n",
    "\n",
    "logreg = LogisticRegression()\n",
    "\n",
    "feature_cols = ['red_stars', 'joined_club', 'tenure', 'payer', 'win_loss']\n",
    "X = df[feature_cols]\n",
    "y = df.rated_app"
   ]
  },
  {
   "cell_type": "markdown",
   "metadata": {},
   "source": [
    "### Get a logistic regression score using a test-train split"
   ]
  },
  {
   "cell_type": "code",
   "execution_count": 156,
   "metadata": {
    "ExecuteTime": {
     "end_time": "2018-10-29T04:36:51.516738Z",
     "start_time": "2018-10-29T04:36:48.272585Z"
    }
   },
   "outputs": [
    {
     "data": {
      "text/plain": [
       "0.77685933912349"
      ]
     },
     "execution_count": 156,
     "metadata": {},
     "output_type": "execute_result"
    }
   ],
   "source": [
    "from sklearn.model_selection import train_test_split\n",
    "\n",
    "X_train, X_test, y_train, y_test = train_test_split(X,y)\n",
    "\n",
    "logreg.fit(X_train,y_train)\n",
    "\n",
    "y_pred = logreg.predict(X_test)\n",
    "\n",
    "logreg.score(X_test, y_test)"
   ]
  },
  {
   "cell_type": "markdown",
   "metadata": {
    "ExecuteTime": {
     "end_time": "2018-10-27T21:17:11.840312Z",
     "start_time": "2018-10-27T21:17:11.837412Z"
    }
   },
   "source": [
    "### Get \"baseline\" score"
   ]
  },
  {
   "cell_type": "code",
   "execution_count": 158,
   "metadata": {
    "ExecuteTime": {
     "end_time": "2018-10-29T04:37:08.359803Z",
     "start_time": "2018-10-29T04:37:08.353573Z"
    }
   },
   "outputs": [
    {
     "data": {
      "text/plain": [
       "0.7764493470142159"
      ]
     },
     "execution_count": 158,
     "metadata": {},
     "output_type": "execute_result"
    }
   ],
   "source": [
    "# Baseline accuracy\n",
    "\n",
    "1. - y_train.mean()"
   ]
  },
  {
   "cell_type": "markdown",
   "metadata": {},
   "source": [
    "### Create a confusion matrix of predictions on our test set using metrics.confusion_matrix."
   ]
  },
  {
   "cell_type": "code",
   "execution_count": 43,
   "metadata": {
    "ExecuteTime": {
     "end_time": "2018-10-27T21:17:57.460834Z",
     "start_time": "2018-10-27T21:17:57.426092Z"
    }
   },
   "outputs": [],
   "source": [
    "# Get probability predictions.\n",
    "logit_pred_proba = logreg.predict_proba(X_test)[:,1]"
   ]
  },
  {
   "cell_type": "code",
   "execution_count": 46,
   "metadata": {
    "ExecuteTime": {
     "end_time": "2018-10-27T21:18:53.660548Z",
     "start_time": "2018-10-27T21:18:51.838354Z"
    }
   },
   "outputs": [
    {
     "data": {
      "text/plain": [
       "array([[492208,      0],\n",
       "       [115136,      0]])"
      ]
     },
     "execution_count": 46,
     "metadata": {},
     "output_type": "execute_result"
    }
   ],
   "source": [
    "metrics.confusion_matrix(y_true=y_test, y_pred=logit_pred_proba > .5)"
   ]
  },
  {
   "cell_type": "markdown",
   "metadata": {},
   "source": [
    "## Decision Tree"
   ]
  },
  {
   "cell_type": "code",
   "execution_count": 159,
   "metadata": {
    "ExecuteTime": {
     "end_time": "2018-10-29T04:41:07.421826Z",
     "start_time": "2018-10-29T04:41:05.209736Z"
    },
    "scrolled": true
   },
   "outputs": [
    {
     "data": {
      "text/plain": [
       "DecisionTreeClassifier(class_weight=None, criterion='gini', max_depth=None,\n",
       "            max_features=None, max_leaf_nodes=None,\n",
       "            min_impurity_decrease=0.0, min_impurity_split=None,\n",
       "            min_samples_leaf=1, min_samples_split=2,\n",
       "            min_weight_fraction_leaf=0.0, presort=False, random_state=None,\n",
       "            splitter='best')"
      ]
     },
     "execution_count": 159,
     "metadata": {},
     "output_type": "execute_result"
    }
   ],
   "source": [
    "# Tree instantiation\n",
    "clf = tree.DecisionTreeClassifier()\n",
    "clf.fit(X_train, y_train)"
   ]
  },
  {
   "cell_type": "code",
   "execution_count": 160,
   "metadata": {
    "ExecuteTime": {
     "end_time": "2018-10-29T04:41:08.436186Z",
     "start_time": "2018-10-29T04:41:08.324077Z"
    }
   },
   "outputs": [
    {
     "data": {
      "text/plain": [
       "0.7698997418673968"
      ]
     },
     "execution_count": 160,
     "metadata": {},
     "output_type": "execute_result"
    }
   ],
   "source": [
    "# Evaluate model\n",
    "clf.score(X_test, y_test)"
   ]
  },
  {
   "cell_type": "markdown",
   "metadata": {},
   "source": [
    "# Split iOS and Android\n",
    "\n",
    "Since the original strategy yielded poor results, we'll re-attempt by separating iOS and Android.  This is a logical split since each platform has its own Store for app ratings."
   ]
  },
  {
   "cell_type": "markdown",
   "metadata": {},
   "source": [
    "## Import iOS dataset from dropbox "
   ]
  },
  {
   "cell_type": "code",
   "execution_count": 150,
   "metadata": {
    "ExecuteTime": {
     "end_time": "2018-10-29T02:43:48.269662Z",
     "start_time": "2018-10-29T02:43:45.396803Z"
    }
   },
   "outputs": [],
   "source": [
    "# Import the dataset from dropbox to a dataframe.\n",
    "df_ios = pd.read_csv('https://www.dropbox.com/s/1i5fyai7ws96um4/ios_data_export_all.csv?dl=1')"
   ]
  },
  {
   "cell_type": "markdown",
   "metadata": {},
   "source": [
    "## Histograms\n",
    "\n",
    "Generate a pair of histograms for each independent variable for the cases where the binary dependent variable (rated_app) is 0 and 1.\n",
    "\n",
    "For all independent variables, it appears that the rated_app = 0 and rated_app = 1 histograms look very similar.  This portends a weak predictive model."
   ]
  },
  {
   "cell_type": "code",
   "execution_count": 90,
   "metadata": {
    "ExecuteTime": {
     "end_time": "2018-10-29T02:17:59.579764Z",
     "start_time": "2018-10-29T02:17:59.335109Z"
    }
   },
   "outputs": [
    {
     "data": {
      "text/plain": [
       "array([[<matplotlib.axes._subplots.AxesSubplot object at 0x7f5d521fe048>]],\n",
       "      dtype=object)"
      ]
     },
     "execution_count": 90,
     "metadata": {},
     "output_type": "execute_result"
    },
    {
     "data": {
      "image/png": "[encoded data removed]",
      "text/plain": [
       "<Figure size 432x288 with 1 Axes>"
      ]
     },
     "metadata": {},
     "output_type": "display_data"
    }
   ],
   "source": [
    "df_ios[(df_ios.rated_app == 0)].hist(column='red_stars')"
   ]
  },
  {
   "cell_type": "code",
   "execution_count": 91,
   "metadata": {
    "ExecuteTime": {
     "end_time": "2018-10-29T02:18:02.400386Z",
     "start_time": "2018-10-29T02:18:02.166296Z"
    }
   },
   "outputs": [
    {
     "data": {
      "text/plain": [
       "array([[<matplotlib.axes._subplots.AxesSubplot object at 0x7f5d5217a668>]],\n",
       "      dtype=object)"
      ]
     },
     "execution_count": 91,
     "metadata": {},
     "output_type": "execute_result"
    },
    {
     "data": {
      "image/png": "[encoded data removed]",
      "text/plain": [
       "<Figure size 432x288 with 1 Axes>"
      ]
     },
     "metadata": {},
     "output_type": "display_data"
    }
   ],
   "source": [
    "df_ios[(df_ios.rated_app == 1)].hist(column='red_stars') "
   ]
  },
  {
   "cell_type": "code",
   "execution_count": 92,
   "metadata": {
    "ExecuteTime": {
     "end_time": "2018-10-29T02:19:16.849301Z",
     "start_time": "2018-10-29T02:19:16.581829Z"
    }
   },
   "outputs": [
    {
     "data": {
      "text/plain": [
       "array([[<matplotlib.axes._subplots.AxesSubplot object at 0x7f5d5211eb00>]],\n",
       "      dtype=object)"
      ]
     },
     "execution_count": 92,
     "metadata": {},
     "output_type": "execute_result"
    },
    {
     "data": {
      "image/png": "[encoded data removed]",
      "text/plain": [
       "<Figure size 432x288 with 1 Axes>"
      ]
     },
     "metadata": {},
     "output_type": "display_data"
    }
   ],
   "source": [
    "df_ios[(df_ios.rated_app == 0)].hist(column='joined_club') "
   ]
  },
  {
   "cell_type": "code",
   "execution_count": 93,
   "metadata": {
    "ExecuteTime": {
     "end_time": "2018-10-29T02:19:21.909113Z",
     "start_time": "2018-10-29T02:19:21.691808Z"
    }
   },
   "outputs": [
    {
     "data": {
      "text/plain": [
       "array([[<matplotlib.axes._subplots.AxesSubplot object at 0x7f5d52093470>]],\n",
       "      dtype=object)"
      ]
     },
     "execution_count": 93,
     "metadata": {},
     "output_type": "execute_result"
    },
    {
     "data": {
      "image/png": "[encoded data removed]",
      "text/plain": [
       "<Figure size 432x288 with 1 Axes>"
      ]
     },
     "metadata": {},
     "output_type": "display_data"
    }
   ],
   "source": [
    "df_ios[(df_ios.rated_app == 1)].hist(column='joined_club') "
   ]
  },
  {
   "cell_type": "code",
   "execution_count": 94,
   "metadata": {
    "ExecuteTime": {
     "end_time": "2018-10-29T02:19:29.234719Z",
     "start_time": "2018-10-29T02:19:28.824735Z"
    }
   },
   "outputs": [
    {
     "data": {
      "text/plain": [
       "array([[<matplotlib.axes._subplots.AxesSubplot object at 0x7f5d5205ad68>]],\n",
       "      dtype=object)"
      ]
     },
     "execution_count": 94,
     "metadata": {},
     "output_type": "execute_result"
    },
    {
     "data": {
      "image/png": "[encoded data removed]",
      "text/plain": [
       "<Figure size 432x288 with 1 Axes>"
      ]
     },
     "metadata": {},
     "output_type": "display_data"
    }
   ],
   "source": [
    "df_ios[(df_ios.rated_app == 0)].hist(column='tenure', bins = 50) "
   ]
  },
  {
   "cell_type": "code",
   "execution_count": 95,
   "metadata": {
    "ExecuteTime": {
     "end_time": "2018-10-29T02:19:34.583428Z",
     "start_time": "2018-10-29T02:19:34.300937Z"
    }
   },
   "outputs": [
    {
     "data": {
      "text/plain": [
       "array([[<matplotlib.axes._subplots.AxesSubplot object at 0x7f5cedb79358>]],\n",
       "      dtype=object)"
      ]
     },
     "execution_count": 95,
     "metadata": {},
     "output_type": "execute_result"
    },
    {
     "data": {
      "image/png": "[encoded data removed]",
      "text/plain": [
       "<Figure size 432x288 with 1 Axes>"
      ]
     },
     "metadata": {},
     "output_type": "display_data"
    }
   ],
   "source": [
    "df_ios[(df_ios.rated_app == 1)].hist(column='tenure', bins = 50) "
   ]
  },
  {
   "cell_type": "code",
   "execution_count": 96,
   "metadata": {
    "ExecuteTime": {
     "end_time": "2018-10-29T02:19:40.750680Z",
     "start_time": "2018-10-29T02:19:40.476800Z"
    }
   },
   "outputs": [
    {
     "data": {
      "text/plain": [
       "array([[<matplotlib.axes._subplots.AxesSubplot object at 0x7f5cedd054a8>]],\n",
       "      dtype=object)"
      ]
     },
     "execution_count": 96,
     "metadata": {},
     "output_type": "execute_result"
    },
    {
     "data": {
      "image/png": "[encoded data removed]",
      "text/plain": [
       "<Figure size 432x288 with 1 Axes>"
      ]
     },
     "metadata": {},
     "output_type": "display_data"
    }
   ],
   "source": [
    "df_ios[(df_ios.rated_app == 0)].hist(column='payer') "
   ]
  },
  {
   "cell_type": "code",
   "execution_count": 97,
   "metadata": {
    "ExecuteTime": {
     "end_time": "2018-10-29T02:19:45.468124Z",
     "start_time": "2018-10-29T02:19:45.266255Z"
    }
   },
   "outputs": [
    {
     "data": {
      "text/plain": [
       "array([[<matplotlib.axes._subplots.AxesSubplot object at 0x7f5cd5642d68>]],\n",
       "      dtype=object)"
      ]
     },
     "execution_count": 97,
     "metadata": {},
     "output_type": "execute_result"
    },
    {
     "data": {
      "image/png": "[encoded data removed]",
      "text/plain": [
       "<Figure size 432x288 with 1 Axes>"
      ]
     },
     "metadata": {},
     "output_type": "display_data"
    }
   ],
   "source": [
    "df_ios[(df_ios.rated_app == 1)].hist(column='payer') "
   ]
  },
  {
   "cell_type": "code",
   "execution_count": 98,
   "metadata": {
    "ExecuteTime": {
     "end_time": "2018-10-29T02:19:54.259152Z",
     "start_time": "2018-10-29T02:19:54.024148Z"
    }
   },
   "outputs": [
    {
     "data": {
      "text/plain": [
       "array([[<matplotlib.axes._subplots.AxesSubplot object at 0x7f5cc38316a0>]],\n",
       "      dtype=object)"
      ]
     },
     "execution_count": 98,
     "metadata": {},
     "output_type": "execute_result"
    },
    {
     "data": {
      "image/png": "[encoded data removed]",
      "text/plain": [
       "<Figure size 432x288 with 1 Axes>"
      ]
     },
     "metadata": {},
     "output_type": "display_data"
    }
   ],
   "source": [
    "df_ios[(df_ios.rated_app == 0)].hist(column='win_loss')"
   ]
  },
  {
   "cell_type": "code",
   "execution_count": 99,
   "metadata": {
    "ExecuteTime": {
     "end_time": "2018-10-29T02:19:59.405619Z",
     "start_time": "2018-10-29T02:19:59.188406Z"
    }
   },
   "outputs": [
    {
     "data": {
      "text/plain": [
       "array([[<matplotlib.axes._subplots.AxesSubplot object at 0x7f5cd7796860>]],\n",
       "      dtype=object)"
      ]
     },
     "execution_count": 99,
     "metadata": {},
     "output_type": "execute_result"
    },
    {
     "data": {
      "image/png": "[encoded data removed]",
      "text/plain": [
       "<Figure size 432x288 with 1 Axes>"
      ]
     },
     "metadata": {},
     "output_type": "display_data"
    }
   ],
   "source": [
    "df_ios[(df_ios.rated_app == 1)].hist(column='win_loss') "
   ]
  },
  {
   "cell_type": "markdown",
   "metadata": {},
   "source": [
    "## Correlations"
   ]
  },
  {
   "cell_type": "code",
   "execution_count": 102,
   "metadata": {
    "ExecuteTime": {
     "end_time": "2018-10-29T02:22:13.786083Z",
     "start_time": "2018-10-29T02:22:13.670117Z"
    }
   },
   "outputs": [
    {
     "data": {
      "text/html": [
       "<div>\n",
       "<style scoped>\n",
       "    .dataframe tbody tr th:only-of-type {\n",
       "        vertical-align: middle;\n",
       "    }\n",
       "\n",
       "    .dataframe tbody tr th {\n",
       "        vertical-align: top;\n",
       "    }\n",
       "\n",
       "    .dataframe thead th {\n",
       "        text-align: right;\n",
       "    }\n",
       "</style>\n",
       "<table border=\"1\" class=\"dataframe\">\n",
       "  <thead>\n",
       "    <tr style=\"text-align: right;\">\n",
       "      <th></th>\n",
       "      <th>red_stars</th>\n",
       "      <th>joined_club</th>\n",
       "      <th>tenure</th>\n",
       "      <th>payer</th>\n",
       "      <th>win_loss</th>\n",
       "      <th>rated_app</th>\n",
       "    </tr>\n",
       "  </thead>\n",
       "  <tbody>\n",
       "    <tr>\n",
       "      <th>red_stars</th>\n",
       "      <td>1.000000</td>\n",
       "      <td>0.370253</td>\n",
       "      <td>0.178024</td>\n",
       "      <td>0.104466</td>\n",
       "      <td>-0.099467</td>\n",
       "      <td>0.018466</td>\n",
       "    </tr>\n",
       "    <tr>\n",
       "      <th>joined_club</th>\n",
       "      <td>0.370253</td>\n",
       "      <td>1.000000</td>\n",
       "      <td>0.195060</td>\n",
       "      <td>0.088485</td>\n",
       "      <td>-0.159207</td>\n",
       "      <td>0.037410</td>\n",
       "    </tr>\n",
       "    <tr>\n",
       "      <th>tenure</th>\n",
       "      <td>0.178024</td>\n",
       "      <td>0.195060</td>\n",
       "      <td>1.000000</td>\n",
       "      <td>0.048768</td>\n",
       "      <td>-0.002191</td>\n",
       "      <td>0.017290</td>\n",
       "    </tr>\n",
       "    <tr>\n",
       "      <th>payer</th>\n",
       "      <td>0.104466</td>\n",
       "      <td>0.088485</td>\n",
       "      <td>0.048768</td>\n",
       "      <td>1.000000</td>\n",
       "      <td>0.023103</td>\n",
       "      <td>0.015678</td>\n",
       "    </tr>\n",
       "    <tr>\n",
       "      <th>win_loss</th>\n",
       "      <td>-0.099467</td>\n",
       "      <td>-0.159207</td>\n",
       "      <td>-0.002191</td>\n",
       "      <td>0.023103</td>\n",
       "      <td>1.000000</td>\n",
       "      <td>-0.019020</td>\n",
       "    </tr>\n",
       "    <tr>\n",
       "      <th>rated_app</th>\n",
       "      <td>0.018466</td>\n",
       "      <td>0.037410</td>\n",
       "      <td>0.017290</td>\n",
       "      <td>0.015678</td>\n",
       "      <td>-0.019020</td>\n",
       "      <td>1.000000</td>\n",
       "    </tr>\n",
       "  </tbody>\n",
       "</table>\n",
       "</div>"
      ],
      "text/plain": [
       "             red_stars  joined_club    tenure     payer  win_loss  rated_app\n",
       "red_stars     1.000000     0.370253  0.178024  0.104466 -0.099467   0.018466\n",
       "joined_club   0.370253     1.000000  0.195060  0.088485 -0.159207   0.037410\n",
       "tenure        0.178024     0.195060  1.000000  0.048768 -0.002191   0.017290\n",
       "payer         0.104466     0.088485  0.048768  1.000000  0.023103   0.015678\n",
       "win_loss     -0.099467    -0.159207 -0.002191  0.023103  1.000000  -0.019020\n",
       "rated_app     0.018466     0.037410  0.017290  0.015678 -0.019020   1.000000"
      ]
     },
     "execution_count": 102,
     "metadata": {},
     "output_type": "execute_result"
    }
   ],
   "source": [
    "df_ios.corr()"
   ]
  },
  {
   "cell_type": "code",
   "execution_count": 103,
   "metadata": {
    "ExecuteTime": {
     "end_time": "2018-10-29T02:22:19.397587Z",
     "start_time": "2018-10-29T02:22:19.085893Z"
    }
   },
   "outputs": [
    {
     "data": {
      "text/plain": [
       "<matplotlib.axes._subplots.AxesSubplot at 0x7f5ced2e7940>"
      ]
     },
     "execution_count": 103,
     "metadata": {},
     "output_type": "execute_result"
    },
    {
     "data": {
      "image/png": "[encoded data removed]",
      "text/plain": [
       "<Figure size 432x288 with 2 Axes>"
      ]
     },
     "metadata": {},
     "output_type": "display_data"
    }
   ],
   "source": [
    "sns.heatmap(df_ios.corr())"
   ]
  },
  {
   "cell_type": "markdown",
   "metadata": {},
   "source": [
    "## Create test-train Logistic Regression model\n",
    "\n",
    "Prepare a feature matrix (X) and response (y) for scikit-learn."
   ]
  },
  {
   "cell_type": "code",
   "execution_count": 104,
   "metadata": {
    "ExecuteTime": {
     "end_time": "2018-10-29T02:22:29.336552Z",
     "start_time": "2018-10-29T02:22:29.318358Z"
    }
   },
   "outputs": [],
   "source": [
    "# Fit a logistic regression model\n",
    "from sklearn.linear_model import LogisticRegression\n",
    "\n",
    "logreg = LogisticRegression()\n",
    "\n",
    "feature_cols = ['red_stars', 'joined_club', 'tenure', 'payer', 'win_loss']\n",
    "X = df_ios[feature_cols]\n",
    "y = df_ios.rated_app"
   ]
  },
  {
   "cell_type": "markdown",
   "metadata": {},
   "source": [
    "### Get a logistic regression score using a test-train split"
   ]
  },
  {
   "cell_type": "code",
   "execution_count": 105,
   "metadata": {
    "ExecuteTime": {
     "end_time": "2018-10-29T02:23:11.309632Z",
     "start_time": "2018-10-29T02:23:08.689721Z"
    }
   },
   "outputs": [
    {
     "data": {
      "text/plain": [
       "0.8615063252910976"
      ]
     },
     "execution_count": 105,
     "metadata": {},
     "output_type": "execute_result"
    }
   ],
   "source": [
    "from sklearn.model_selection import train_test_split\n",
    "\n",
    "X_train, X_test, y_train, y_test = train_test_split(X,y)\n",
    "\n",
    "logreg.fit(X_train,y_train)\n",
    "\n",
    "y_pred = logreg.predict(X_test)\n",
    "\n",
    "logreg.score(X_test, y_test)"
   ]
  },
  {
   "cell_type": "markdown",
   "metadata": {},
   "source": [
    "### Get \"baseline\" score"
   ]
  },
  {
   "cell_type": "code",
   "execution_count": 106,
   "metadata": {
    "ExecuteTime": {
     "end_time": "2018-10-29T02:24:02.987818Z",
     "start_time": "2018-10-29T02:24:02.981845Z"
    }
   },
   "outputs": [
    {
     "data": {
      "text/plain": [
       "0.8618053390341194"
      ]
     },
     "execution_count": 106,
     "metadata": {},
     "output_type": "execute_result"
    }
   ],
   "source": [
    "# Baseline accurace\n",
    "\n",
    "1. - y_train.mean()"
   ]
  },
  {
   "cell_type": "markdown",
   "metadata": {
    "ExecuteTime": {
     "end_time": "2018-10-29T02:25:04.674447Z",
     "start_time": "2018-10-29T02:25:04.671366Z"
    }
   },
   "source": [
    "### Create a confusion matrix of predictions on our test set using metrics.confusion_matrix."
   ]
  },
  {
   "cell_type": "code",
   "execution_count": 110,
   "metadata": {
    "ExecuteTime": {
     "end_time": "2018-10-29T02:25:18.437353Z",
     "start_time": "2018-10-29T02:25:18.422916Z"
    }
   },
   "outputs": [],
   "source": [
    "# Get probability predictions.\n",
    "logit_pred_proba = logreg.predict_proba(X_test)[:,1]"
   ]
  },
  {
   "cell_type": "code",
   "execution_count": 111,
   "metadata": {
    "ExecuteTime": {
     "end_time": "2018-10-29T02:25:23.605119Z",
     "start_time": "2018-10-29T02:25:22.880220Z"
    }
   },
   "outputs": [
    {
     "data": {
      "text/plain": [
       "array([[205390,      0],\n",
       "       [ 33018,      0]])"
      ]
     },
     "execution_count": 111,
     "metadata": {},
     "output_type": "execute_result"
    }
   ],
   "source": [
    "metrics.confusion_matrix(y_true=y_test, y_pred=logit_pred_proba > .5)"
   ]
  },
  {
   "cell_type": "markdown",
   "metadata": {},
   "source": [
    "## Decision Tree"
   ]
  },
  {
   "cell_type": "code",
   "execution_count": 107,
   "metadata": {
    "ExecuteTime": {
     "end_time": "2018-10-29T02:24:35.289067Z",
     "start_time": "2018-10-29T02:24:34.121997Z"
    }
   },
   "outputs": [
    {
     "data": {
      "text/plain": [
       "DecisionTreeClassifier(class_weight=None, criterion='gini', max_depth=None,\n",
       "            max_features=None, max_leaf_nodes=None,\n",
       "            min_impurity_decrease=0.0, min_impurity_split=None,\n",
       "            min_samples_leaf=1, min_samples_split=2,\n",
       "            min_weight_fraction_leaf=0.0, presort=False, random_state=None,\n",
       "            splitter='best')"
      ]
     },
     "execution_count": 107,
     "metadata": {},
     "output_type": "execute_result"
    }
   ],
   "source": [
    "# Tree instantiation\n",
    "clf = tree.DecisionTreeClassifier()\n",
    "clf.fit(X_train, y_train)"
   ]
  },
  {
   "cell_type": "code",
   "execution_count": 108,
   "metadata": {
    "ExecuteTime": {
     "end_time": "2018-10-29T02:24:41.206383Z",
     "start_time": "2018-10-29T02:24:41.130125Z"
    }
   },
   "outputs": [
    {
     "data": {
      "text/plain": [
       "0.8547951411026475"
      ]
     },
     "execution_count": 108,
     "metadata": {},
     "output_type": "execute_result"
    }
   ],
   "source": [
    "# Evaluate model\n",
    "clf.score(X_test, y_test)"
   ]
  },
  {
   "cell_type": "markdown",
   "metadata": {
    "ExecuteTime": {
     "end_time": "2018-10-29T02:26:20.752063Z",
     "start_time": "2018-10-29T02:26:20.749747Z"
    }
   },
   "source": [
    "# Android"
   ]
  },
  {
   "cell_type": "markdown",
   "metadata": {
    "ExecuteTime": {
     "end_time": "2018-10-29T02:26:44.357285Z",
     "start_time": "2018-10-29T02:26:44.354281Z"
    }
   },
   "source": [
    "## Import Android dataset from dropbox"
   ]
  },
  {
   "cell_type": "code",
   "execution_count": 128,
   "metadata": {
    "ExecuteTime": {
     "end_time": "2018-10-29T02:39:48.985719Z",
     "start_time": "2018-10-29T02:39:45.403036Z"
    }
   },
   "outputs": [],
   "source": [
    "# Import the dataset from dropbox to a dataframe.\n",
    "df_android = pd.read_csv('https://www.dropbox.com/s/blsmkjgubxmr4y4/android_data_export_all.csv?dl=1')"
   ]
  },
  {
   "cell_type": "markdown",
   "metadata": {
    "ExecuteTime": {
     "end_time": "2018-10-29T02:29:56.111492Z",
     "start_time": "2018-10-29T02:29:56.106882Z"
    }
   },
   "source": [
    "## Histograms\n",
    "\n",
    "Generate a pair of histograms for each independent variable for the cases where the binary dependent variable (rated_app) is 0 and 1.\n",
    "\n",
    "For all independent variables, it appears that the rated_app = 0 and rated_app = 1 histograms look very similar.  This portends a weak predictive model."
   ]
  },
  {
   "cell_type": "code",
   "execution_count": 129,
   "metadata": {
    "ExecuteTime": {
     "end_time": "2018-10-29T02:39:54.941536Z",
     "start_time": "2018-10-29T02:39:54.664933Z"
    }
   },
   "outputs": [
    {
     "data": {
      "text/plain": [
       "array([[<matplotlib.axes._subplots.AxesSubplot object at 0x7f5cb948cbe0>]],\n",
       "      dtype=object)"
      ]
     },
     "execution_count": 129,
     "metadata": {},
     "output_type": "execute_result"
    },
    {
     "data": {
      "image/png": "[encoded data removed]",
      "text/plain": [
       "<Figure size 432x288 with 1 Axes>"
      ]
     },
     "metadata": {},
     "output_type": "display_data"
    }
   ],
   "source": [
    "df_android[(df_android.rated_app == 0)].hist(column='red_stars')"
   ]
  },
  {
   "cell_type": "code",
   "execution_count": 130,
   "metadata": {
    "ExecuteTime": {
     "end_time": "2018-10-29T02:39:59.599176Z",
     "start_time": "2018-10-29T02:39:59.343429Z"
    }
   },
   "outputs": [
    {
     "data": {
      "text/plain": [
       "array([[<matplotlib.axes._subplots.AxesSubplot object at 0x7f5ca0c7d4a8>]],\n",
       "      dtype=object)"
      ]
     },
     "execution_count": 130,
     "metadata": {},
     "output_type": "execute_result"
    },
    {
     "data": {
      "image/png": "[encoded data removed]",
      "text/plain": [
       "<Figure size 432x288 with 1 Axes>"
      ]
     },
     "metadata": {},
     "output_type": "display_data"
    }
   ],
   "source": [
    "df_android[(df_android.rated_app == 1)].hist(column='red_stars') "
   ]
  },
  {
   "cell_type": "code",
   "execution_count": 131,
   "metadata": {
    "ExecuteTime": {
     "end_time": "2018-10-29T02:40:01.045993Z",
     "start_time": "2018-10-29T02:40:00.760313Z"
    }
   },
   "outputs": [
    {
     "data": {
      "text/plain": [
       "array([[<matplotlib.axes._subplots.AxesSubplot object at 0x7f5c9cbbed68>]],\n",
       "      dtype=object)"
      ]
     },
     "execution_count": 131,
     "metadata": {},
     "output_type": "execute_result"
    },
    {
     "data": {
      "image/png": "[encoded data removed]",
      "text/plain": [
       "<Figure size 432x288 with 1 Axes>"
      ]
     },
     "metadata": {},
     "output_type": "display_data"
    }
   ],
   "source": [
    "df_android[(df_android.rated_app == 0)].hist(column='joined_club') "
   ]
  },
  {
   "cell_type": "code",
   "execution_count": 132,
   "metadata": {
    "ExecuteTime": {
     "end_time": "2018-10-29T02:40:03.586633Z",
     "start_time": "2018-10-29T02:40:03.346230Z"
    }
   },
   "outputs": [
    {
     "data": {
      "text/plain": [
       "array([[<matplotlib.axes._subplots.AxesSubplot object at 0x7f5c9cb3b7f0>]],\n",
       "      dtype=object)"
      ]
     },
     "execution_count": 132,
     "metadata": {},
     "output_type": "execute_result"
    },
    {
     "data": {
      "image/png": "[encoded data removed]",
      "text/plain": [
       "<Figure size 432x288 with 1 Axes>"
      ]
     },
     "metadata": {},
     "output_type": "display_data"
    }
   ],
   "source": [
    "df_android[(df_android.rated_app == 1)].hist(column='joined_club') "
   ]
  },
  {
   "cell_type": "code",
   "execution_count": 133,
   "metadata": {
    "ExecuteTime": {
     "end_time": "2018-10-29T02:40:04.876687Z",
     "start_time": "2018-10-29T02:40:04.539437Z"
    }
   },
   "outputs": [
    {
     "data": {
      "text/plain": [
       "array([[<matplotlib.axes._subplots.AxesSubplot object at 0x7f5c9cb03198>]],\n",
       "      dtype=object)"
      ]
     },
     "execution_count": 133,
     "metadata": {},
     "output_type": "execute_result"
    },
    {
     "data": {
      "image/png": "[encoded data removed]",
      "text/plain": [
       "<Figure size 432x288 with 1 Axes>"
      ]
     },
     "metadata": {},
     "output_type": "display_data"
    }
   ],
   "source": [
    "df_android[(df_android.rated_app == 0)].hist(column='tenure', bins = 50) "
   ]
  },
  {
   "cell_type": "code",
   "execution_count": 134,
   "metadata": {
    "ExecuteTime": {
     "end_time": "2018-10-29T02:40:07.082735Z",
     "start_time": "2018-10-29T02:40:06.774732Z"
    }
   },
   "outputs": [
    {
     "data": {
      "text/plain": [
       "array([[<matplotlib.axes._subplots.AxesSubplot object at 0x7f5c9c9d8908>]],\n",
       "      dtype=object)"
      ]
     },
     "execution_count": 134,
     "metadata": {},
     "output_type": "execute_result"
    },
    {
     "data": {
      "image/png": "[encoded data removed]",
      "text/plain": [
       "<Figure size 432x288 with 1 Axes>"
      ]
     },
     "metadata": {},
     "output_type": "display_data"
    }
   ],
   "source": [
    "df_android[(df_android.rated_app == 1)].hist(column='tenure', bins = 50)"
   ]
  },
  {
   "cell_type": "code",
   "execution_count": 135,
   "metadata": {
    "ExecuteTime": {
     "end_time": "2018-10-29T02:40:07.946367Z",
     "start_time": "2018-10-29T02:40:07.672957Z"
    }
   },
   "outputs": [
    {
     "data": {
      "text/plain": [
       "array([[<matplotlib.axes._subplots.AxesSubplot object at 0x7f5c9c923d68>]],\n",
       "      dtype=object)"
      ]
     },
     "execution_count": 135,
     "metadata": {},
     "output_type": "execute_result"
    },
    {
     "data": {
      "image/png": "[encoded data removed]",
      "text/plain": [
       "<Figure size 432x288 with 1 Axes>"
      ]
     },
     "metadata": {},
     "output_type": "display_data"
    }
   ],
   "source": [
    "df_android[(df_android.rated_app == 0)].hist(column='payer') "
   ]
  },
  {
   "cell_type": "code",
   "execution_count": 136,
   "metadata": {
    "ExecuteTime": {
     "end_time": "2018-10-29T02:40:10.290516Z",
     "start_time": "2018-10-29T02:40:10.049405Z"
    }
   },
   "outputs": [
    {
     "data": {
      "text/plain": [
       "array([[<matplotlib.axes._subplots.AxesSubplot object at 0x7f5c9cb87710>]],\n",
       "      dtype=object)"
      ]
     },
     "execution_count": 136,
     "metadata": {},
     "output_type": "execute_result"
    },
    {
     "data": {
      "image/png": "[encoded data removed]",
      "text/plain": [
       "<Figure size 432x288 with 1 Axes>"
      ]
     },
     "metadata": {},
     "output_type": "display_data"
    }
   ],
   "source": [
    "df_android[(df_android.rated_app == 1)].hist(column='payer') "
   ]
  },
  {
   "cell_type": "code",
   "execution_count": 137,
   "metadata": {
    "ExecuteTime": {
     "end_time": "2018-10-29T02:40:11.821176Z",
     "start_time": "2018-10-29T02:40:11.539189Z"
    }
   },
   "outputs": [
    {
     "data": {
      "text/plain": [
       "array([[<matplotlib.axes._subplots.AxesSubplot object at 0x7f5c9c8401d0>]],\n",
       "      dtype=object)"
      ]
     },
     "execution_count": 137,
     "metadata": {},
     "output_type": "execute_result"
    },
    {
     "data": {
      "image/png": "[encoded data removed]",
      "text/plain": [
       "<Figure size 432x288 with 1 Axes>"
      ]
     },
     "metadata": {},
     "output_type": "display_data"
    }
   ],
   "source": [
    "df_android[(df_android.rated_app == 0)].hist(column='win_loss')"
   ]
  },
  {
   "cell_type": "code",
   "execution_count": 138,
   "metadata": {
    "ExecuteTime": {
     "end_time": "2018-10-29T02:40:14.138268Z",
     "start_time": "2018-10-29T02:40:13.886845Z"
    }
   },
   "outputs": [
    {
     "data": {
      "text/plain": [
       "array([[<matplotlib.axes._subplots.AxesSubplot object at 0x7f5c9c7a1198>]],\n",
       "      dtype=object)"
      ]
     },
     "execution_count": 138,
     "metadata": {},
     "output_type": "execute_result"
    },
    {
     "data": {
      "image/png": "[encoded data removed]",
      "text/plain": [
       "<Figure size 432x288 with 1 Axes>"
      ]
     },
     "metadata": {},
     "output_type": "display_data"
    }
   ],
   "source": [
    "df_android[(df_android.rated_app == 1)].hist(column='win_loss')"
   ]
  },
  {
   "cell_type": "markdown",
   "metadata": {},
   "source": [
    "## Correlations"
   ]
  },
  {
   "cell_type": "code",
   "execution_count": 139,
   "metadata": {
    "ExecuteTime": {
     "end_time": "2018-10-29T02:40:18.786017Z",
     "start_time": "2018-10-29T02:40:18.622456Z"
    }
   },
   "outputs": [
    {
     "data": {
      "text/html": [
       "<div>\n",
       "<style scoped>\n",
       "    .dataframe tbody tr th:only-of-type {\n",
       "        vertical-align: middle;\n",
       "    }\n",
       "\n",
       "    .dataframe tbody tr th {\n",
       "        vertical-align: top;\n",
       "    }\n",
       "\n",
       "    .dataframe thead th {\n",
       "        text-align: right;\n",
       "    }\n",
       "</style>\n",
       "<table border=\"1\" class=\"dataframe\">\n",
       "  <thead>\n",
       "    <tr style=\"text-align: right;\">\n",
       "      <th></th>\n",
       "      <th>red_stars</th>\n",
       "      <th>joined_club</th>\n",
       "      <th>tenure</th>\n",
       "      <th>payer</th>\n",
       "      <th>win_loss</th>\n",
       "      <th>rated_app</th>\n",
       "    </tr>\n",
       "  </thead>\n",
       "  <tbody>\n",
       "    <tr>\n",
       "      <th>red_stars</th>\n",
       "      <td>1.000000</td>\n",
       "      <td>0.373976</td>\n",
       "      <td>0.141771</td>\n",
       "      <td>0.092156</td>\n",
       "      <td>-0.091875</td>\n",
       "      <td>0.018427</td>\n",
       "    </tr>\n",
       "    <tr>\n",
       "      <th>joined_club</th>\n",
       "      <td>0.373976</td>\n",
       "      <td>1.000000</td>\n",
       "      <td>0.217135</td>\n",
       "      <td>0.087377</td>\n",
       "      <td>-0.157354</td>\n",
       "      <td>0.040947</td>\n",
       "    </tr>\n",
       "    <tr>\n",
       "      <th>tenure</th>\n",
       "      <td>0.141771</td>\n",
       "      <td>0.217135</td>\n",
       "      <td>1.000000</td>\n",
       "      <td>0.032762</td>\n",
       "      <td>-0.007945</td>\n",
       "      <td>0.002471</td>\n",
       "    </tr>\n",
       "    <tr>\n",
       "      <th>payer</th>\n",
       "      <td>0.092156</td>\n",
       "      <td>0.087377</td>\n",
       "      <td>0.032762</td>\n",
       "      <td>1.000000</td>\n",
       "      <td>0.032797</td>\n",
       "      <td>0.008076</td>\n",
       "    </tr>\n",
       "    <tr>\n",
       "      <th>win_loss</th>\n",
       "      <td>-0.091875</td>\n",
       "      <td>-0.157354</td>\n",
       "      <td>-0.007945</td>\n",
       "      <td>0.032797</td>\n",
       "      <td>1.000000</td>\n",
       "      <td>-0.016013</td>\n",
       "    </tr>\n",
       "    <tr>\n",
       "      <th>rated_app</th>\n",
       "      <td>0.018427</td>\n",
       "      <td>0.040947</td>\n",
       "      <td>0.002471</td>\n",
       "      <td>0.008076</td>\n",
       "      <td>-0.016013</td>\n",
       "      <td>1.000000</td>\n",
       "    </tr>\n",
       "  </tbody>\n",
       "</table>\n",
       "</div>"
      ],
      "text/plain": [
       "             red_stars  joined_club    tenure     payer  win_loss  rated_app\n",
       "red_stars     1.000000     0.373976  0.141771  0.092156 -0.091875   0.018427\n",
       "joined_club   0.373976     1.000000  0.217135  0.087377 -0.157354   0.040947\n",
       "tenure        0.141771     0.217135  1.000000  0.032762 -0.007945   0.002471\n",
       "payer         0.092156     0.087377  0.032762  1.000000  0.032797   0.008076\n",
       "win_loss     -0.091875    -0.157354 -0.007945  0.032797  1.000000  -0.016013\n",
       "rated_app     0.018427     0.040947  0.002471  0.008076 -0.016013   1.000000"
      ]
     },
     "execution_count": 139,
     "metadata": {},
     "output_type": "execute_result"
    }
   ],
   "source": [
    "df_android.corr()"
   ]
  },
  {
   "cell_type": "code",
   "execution_count": 140,
   "metadata": {
    "ExecuteTime": {
     "end_time": "2018-10-29T02:40:23.589285Z",
     "start_time": "2018-10-29T02:40:23.222023Z"
    }
   },
   "outputs": [
    {
     "data": {
      "text/plain": [
       "<matplotlib.axes._subplots.AxesSubplot at 0x7f5c9c715278>"
      ]
     },
     "execution_count": 140,
     "metadata": {},
     "output_type": "execute_result"
    },
    {
     "data": {
      "image/png": "[encoded data removed]",
      "text/plain": [
       "<Figure size 432x288 with 2 Axes>"
      ]
     },
     "metadata": {},
     "output_type": "display_data"
    }
   ],
   "source": [
    "sns.heatmap(df_android.corr())"
   ]
  },
  {
   "cell_type": "markdown",
   "metadata": {},
   "source": [
    "## Create test-train Logistic Regression model\n",
    "\n",
    "Prepare a feature matrix (X) and response (y) for scikit-learn."
   ]
  },
  {
   "cell_type": "code",
   "execution_count": 141,
   "metadata": {
    "ExecuteTime": {
     "end_time": "2018-10-29T02:40:29.837401Z",
     "start_time": "2018-10-29T02:40:29.814796Z"
    }
   },
   "outputs": [],
   "source": [
    "# Fit a logistic regression model\n",
    "from sklearn.linear_model import LogisticRegression\n",
    "\n",
    "logreg = LogisticRegression()\n",
    "\n",
    "feature_cols = ['red_stars', 'joined_club', 'tenure', 'payer', 'win_loss']\n",
    "X = df_android[feature_cols]\n",
    "y = df_android.rated_app"
   ]
  },
  {
   "cell_type": "markdown",
   "metadata": {},
   "source": [
    "### Get a logistic regression score using a test-train split"
   ]
  },
  {
   "cell_type": "code",
   "execution_count": 142,
   "metadata": {
    "ExecuteTime": {
     "end_time": "2018-10-29T02:40:35.641443Z",
     "start_time": "2018-10-29T02:40:32.415237Z"
    }
   },
   "outputs": [
    {
     "data": {
      "text/plain": [
       "0.7756956031888647"
      ]
     },
     "execution_count": 142,
     "metadata": {},
     "output_type": "execute_result"
    }
   ],
   "source": [
    "from sklearn.model_selection import train_test_split\n",
    "\n",
    "X_train, X_test, y_train, y_test = train_test_split(X,y)\n",
    "\n",
    "logreg.fit(X_train,y_train)\n",
    "\n",
    "y_pred = logreg.predict(X_test)\n",
    "\n",
    "logreg.score(X_test, y_test)"
   ]
  },
  {
   "cell_type": "markdown",
   "metadata": {},
   "source": [
    "### Get \"baseline\" score"
   ]
  },
  {
   "cell_type": "code",
   "execution_count": 143,
   "metadata": {
    "ExecuteTime": {
     "end_time": "2018-10-29T02:40:39.398102Z",
     "start_time": "2018-10-29T02:40:39.391777Z"
    }
   },
   "outputs": [
    {
     "data": {
      "text/plain": [
       "0.7768372593612377"
      ]
     },
     "execution_count": 143,
     "metadata": {},
     "output_type": "execute_result"
    }
   ],
   "source": [
    "# Baseline accurace\n",
    "\n",
    "1. - y_train.mean()"
   ]
  },
  {
   "cell_type": "markdown",
   "metadata": {},
   "source": [
    "### Create a confusion matrix of predictions on our test set using metrics.confusion_matrix."
   ]
  },
  {
   "cell_type": "code",
   "execution_count": 144,
   "metadata": {
    "ExecuteTime": {
     "end_time": "2018-10-29T02:40:43.687044Z",
     "start_time": "2018-10-29T02:40:43.661833Z"
    }
   },
   "outputs": [],
   "source": [
    "# Get probability predictions.\n",
    "logit_pred_proba = logreg.predict_proba(X_test)[:,1]"
   ]
  },
  {
   "cell_type": "code",
   "execution_count": 145,
   "metadata": {
    "ExecuteTime": {
     "end_time": "2018-10-29T02:40:45.804553Z",
     "start_time": "2018-10-29T02:40:44.750076Z"
    }
   },
   "outputs": [
    {
     "data": {
      "text/plain": [
       "array([[271955,      0],\n",
       "       [ 78640,      0]])"
      ]
     },
     "execution_count": 145,
     "metadata": {},
     "output_type": "execute_result"
    }
   ],
   "source": [
    "metrics.confusion_matrix(y_true=y_test, y_pred=logit_pred_proba > .5)"
   ]
  },
  {
   "cell_type": "markdown",
   "metadata": {},
   "source": [
    "## Decision Tree"
   ]
  },
  {
   "cell_type": "code",
   "execution_count": 146,
   "metadata": {
    "ExecuteTime": {
     "end_time": "2018-10-29T02:40:50.432695Z",
     "start_time": "2018-10-29T02:40:48.262714Z"
    }
   },
   "outputs": [
    {
     "data": {
      "text/plain": [
       "DecisionTreeClassifier(class_weight=None, criterion='gini', max_depth=None,\n",
       "            max_features=None, max_leaf_nodes=None,\n",
       "            min_impurity_decrease=0.0, min_impurity_split=None,\n",
       "            min_samples_leaf=1, min_samples_split=2,\n",
       "            min_weight_fraction_leaf=0.0, presort=False, random_state=None,\n",
       "            splitter='best')"
      ]
     },
     "execution_count": 146,
     "metadata": {},
     "output_type": "execute_result"
    }
   ],
   "source": [
    "# Tree instantiation\n",
    "clf = tree.DecisionTreeClassifier()\n",
    "clf.fit(X_train, y_train)"
   ]
  },
  {
   "cell_type": "code",
   "execution_count": 147,
   "metadata": {
    "ExecuteTime": {
     "end_time": "2018-10-29T02:40:52.552719Z",
     "start_time": "2018-10-29T02:40:52.446332Z"
    }
   },
   "outputs": [
    {
     "data": {
      "text/plain": [
       "0.7687445628146437"
      ]
     },
     "execution_count": 147,
     "metadata": {},
     "output_type": "execute_result"
    }
   ],
   "source": [
    "# Evaluate model\n",
    "clf.score(X_test, y_test)"
   ]
  },
  {
   "cell_type": "code",
   "execution_count": 148,
   "metadata": {
    "ExecuteTime": {
     "end_time": "2018-10-29T02:42:35.746473Z",
     "start_time": "2018-10-29T02:42:24.486572Z"
    }
   },
   "outputs": [],
   "source": [
    "dot_data = tree.export_graphviz(clf, out_file=None,  \n",
    "                         feature_names=X_train.columns,  \n",
    "                         class_names=df.columns[6],  \n",
    "                         filled=True, rounded=True,  \n",
    "                         special_characters=True)"
   ]
  }
 ],
 "metadata": {
  "kernelspec": {
   "display_name": "Python [conda env:py36]",
   "language": "python",
   "name": "conda-env-py36-py"
  },
  "language_info": {
   "codemirror_mode": {
    "name": "ipython",
    "version": 3
   },
   "file_extension": ".py",
   "mimetype": "text/x-python",
   "name": "python",
   "nbconvert_exporter": "python",
   "pygments_lexer": "ipython3",
   "version": "3.6.4"
  },
  "toc": {
   "base_numbering": 1,
   "nav_menu": {},
   "number_sections": true,
   "sideBar": true,
   "skip_h1_title": false,
   "title_cell": "Table of Contents",
   "title_sidebar": "Contents",
   "toc_cell": false,
   "toc_position": {},
   "toc_section_display": true,
   "toc_window_display": false
  }
 },
 "nbformat": 4,
 "nbformat_minor": 2
}
